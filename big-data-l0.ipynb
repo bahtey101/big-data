{
  "nbformat": 4,
  "nbformat_minor": 0,
  "metadata": {
    "colab": {
      "provenance": []
    },
    "kernelspec": {
      "name": "python3",
      "display_name": "Python 3"
    }
  },
  "cells": [
    {
      "cell_type": "markdown",
      "metadata": {
        "id": "82OvPKEiEqjc"
      },
      "source": [
        "# Введение в MapReduce модель на Python\n"
      ]
    },
    {
      "cell_type": "code",
      "metadata": {
        "id": "JQ2cvXLjICmI"
      },
      "source": [
        "from typing import NamedTuple # requires python 3.6+\n",
        "from typing import Iterator"
      ],
      "execution_count": 1,
      "outputs": []
    },
    {
      "cell_type": "code",
      "metadata": {
        "id": "yjPHumVwEyEg"
      },
      "source": [
        "def MAP(_, row:NamedTuple):\n",
        "  if (row.gender == 'female'):\n",
        "    yield (row.age, row)\n",
        "\n",
        "def REDUCE(age:str, rows:Iterator[NamedTuple]):\n",
        "  sum = 0\n",
        "  count = 0\n",
        "  for row in rows:\n",
        "    sum += row.social_contacts\n",
        "    count += 1\n",
        "  if (count > 0):\n",
        "    yield (age, sum/count)\n",
        "  else:\n",
        "    yield (age, 0)"
      ],
      "execution_count": 2,
      "outputs": []
    },
    {
      "cell_type": "markdown",
      "metadata": {
        "id": "vBKMgpG_ilaZ"
      },
      "source": [
        "Модель элемента данных"
      ]
    },
    {
      "cell_type": "code",
      "metadata": {
        "id": "Rv-XIjhTJPx3"
      },
      "source": [
        "class User(NamedTuple):\n",
        "  id: int\n",
        "  age: str\n",
        "  social_contacts: int\n",
        "  gender: str"
      ],
      "execution_count": 3,
      "outputs": []
    },
    {
      "cell_type": "code",
      "metadata": {
        "id": "5KV0Ze2vQgu5"
      },
      "source": [
        "input_collection = [\n",
        "    User(id=0, age=55, gender='male', social_contacts=20),\n",
        "    User(id=1, age=25, gender='female', social_contacts=240),\n",
        "    User(id=2, age=25, gender='female', social_contacts=500),\n",
        "    User(id=3, age=33, gender='female', social_contacts=800)\n",
        "]"
      ],
      "execution_count": 4,
      "outputs": []
    },
    {
      "cell_type": "markdown",
      "metadata": {
        "id": "YFeqzyZxZIFZ"
      },
      "source": [
        "Функция RECORDREADER моделирует чтение элементов с диска или по сети."
      ]
    },
    {
      "cell_type": "code",
      "metadata": {
        "id": "S5HR4E_GQoMJ"
      },
      "source": [
        "def RECORDREADER():\n",
        "  return [(u.id, u) for u in input_collection]"
      ],
      "execution_count": 5,
      "outputs": []
    },
    {
      "cell_type": "code",
      "metadata": {
        "id": "NeEoWla-ROUy",
        "colab": {
          "base_uri": "https://localhost:8080/"
        },
        "outputId": "11fbbe20-c256-4df3-a17d-f2ea262c2b75"
      },
      "source": [
        "list(RECORDREADER())"
      ],
      "execution_count": 6,
      "outputs": [
        {
          "output_type": "execute_result",
          "data": {
            "text/plain": [
              "[(0, User(id=0, age=55, social_contacts=20, gender='male')),\n",
              " (1, User(id=1, age=25, social_contacts=240, gender='female')),\n",
              " (2, User(id=2, age=25, social_contacts=500, gender='female')),\n",
              " (3, User(id=3, age=33, social_contacts=800, gender='female'))]"
            ]
          },
          "metadata": {},
          "execution_count": 6
        }
      ]
    },
    {
      "cell_type": "code",
      "metadata": {
        "id": "YB8orgPSZs8M"
      },
      "source": [
        "def flatten(nested_iterable):\n",
        "  for iterable in nested_iterable:\n",
        "    for element in iterable:\n",
        "      yield element"
      ],
      "execution_count": 7,
      "outputs": []
    },
    {
      "cell_type": "code",
      "metadata": {
        "id": "74oyvDLaRmd5",
        "colab": {
          "base_uri": "https://localhost:8080/"
        },
        "outputId": "2b8fe7d2-7fbd-4e99-8456-2150c6a5204a"
      },
      "source": [
        "map_output = flatten(map(lambda x: MAP(*x), RECORDREADER()))\n",
        "map_output = list(map_output) # materialize\n",
        "map_output"
      ],
      "execution_count": 8,
      "outputs": [
        {
          "output_type": "execute_result",
          "data": {
            "text/plain": [
              "[(25, User(id=1, age=25, social_contacts=240, gender='female')),\n",
              " (25, User(id=2, age=25, social_contacts=500, gender='female')),\n",
              " (33, User(id=3, age=33, social_contacts=800, gender='female'))]"
            ]
          },
          "metadata": {},
          "execution_count": 8
        }
      ]
    },
    {
      "cell_type": "code",
      "metadata": {
        "id": "8ncYDJ3-VzDn"
      },
      "source": [
        "def groupbykey(iterable):\n",
        "  t = {}\n",
        "  for (k2, v2) in iterable:\n",
        "    t[k2] = t.get(k2, []) + [v2]\n",
        "  return t.items()"
      ],
      "execution_count": 9,
      "outputs": []
    },
    {
      "cell_type": "code",
      "metadata": {
        "id": "cKzY_6COWOA2",
        "colab": {
          "base_uri": "https://localhost:8080/"
        },
        "outputId": "d4ad3202-545d-4ca6-d272-9e077845aa4a"
      },
      "source": [
        "shuffle_output = groupbykey(map_output)\n",
        "shuffle_output = list(shuffle_output)\n",
        "shuffle_output"
      ],
      "execution_count": 10,
      "outputs": [
        {
          "output_type": "execute_result",
          "data": {
            "text/plain": [
              "[(25,\n",
              "  [User(id=1, age=25, social_contacts=240, gender='female'),\n",
              "   User(id=2, age=25, social_contacts=500, gender='female')]),\n",
              " (33, [User(id=3, age=33, social_contacts=800, gender='female')])]"
            ]
          },
          "metadata": {},
          "execution_count": 10
        }
      ]
    },
    {
      "cell_type": "code",
      "metadata": {
        "id": "NlA7lkDDYL0t",
        "colab": {
          "base_uri": "https://localhost:8080/"
        },
        "outputId": "a4393d16-86f1-4e2e-b470-b549b59b5580"
      },
      "source": [
        "reduce_output = flatten(map(lambda x: REDUCE(*x), shuffle_output))\n",
        "reduce_output = list(reduce_output)\n",
        "reduce_output"
      ],
      "execution_count": 11,
      "outputs": [
        {
          "output_type": "execute_result",
          "data": {
            "text/plain": [
              "[(25, 370.0), (33, 800.0)]"
            ]
          },
          "metadata": {},
          "execution_count": 11
        }
      ]
    },
    {
      "cell_type": "markdown",
      "metadata": {
        "id": "xf6qhHEtd6bI"
      },
      "source": [
        "Все действия одним конвейером!"
      ]
    },
    {
      "cell_type": "code",
      "metadata": {
        "id": "dZaQGYxCdpw5",
        "colab": {
          "base_uri": "https://localhost:8080/"
        },
        "outputId": "29c17392-a454-4c51-e33b-c4074dd77e08"
      },
      "source": [
        "list(flatten(map(lambda x: REDUCE(*x), groupbykey(flatten(map(lambda x: MAP(*x), RECORDREADER()))))))"
      ],
      "execution_count": 12,
      "outputs": [
        {
          "output_type": "execute_result",
          "data": {
            "text/plain": [
              "[(25, 370.0), (33, 800.0)]"
            ]
          },
          "metadata": {},
          "execution_count": 12
        }
      ]
    },
    {
      "cell_type": "markdown",
      "metadata": {
        "id": "Vq3EWRIpwSiJ"
      },
      "source": [
        "# **MapReduce**\n",
        "Выделим общую для всех пользователей часть системы в отдельную функцию высшего порядка. Это наиболее простая модель MapReduce, без учёта распределённого хранения данных.\n",
        "\n",
        "Пользователь для решения своей задачи реализует RECORDREADER, MAP, REDUCE."
      ]
    },
    {
      "cell_type": "code",
      "metadata": {
        "id": "V1PZeQMwwVjc"
      },
      "source": [
        "def flatten(nested_iterable):\n",
        "  for iterable in nested_iterable:\n",
        "    for element in iterable:\n",
        "      yield element\n",
        "\n",
        "def groupbykey(iterable):\n",
        "  t = {}\n",
        "  for (k2, v2) in iterable:\n",
        "    t[k2] = t.get(k2, []) + [v2]\n",
        "  return t.items()\n",
        "\n",
        "def MapReduce(RECORDREADER, MAP, REDUCE):\n",
        "  return flatten(map(lambda x: REDUCE(*x), groupbykey(flatten(map(lambda x: MAP(*x), RECORDREADER())))))"
      ],
      "execution_count": 13,
      "outputs": []
    },
    {
      "cell_type": "markdown",
      "metadata": {
        "id": "iFIVrimep678"
      },
      "source": [
        "## Спецификация MapReduce\n",
        "\n",
        "\n",
        "\n",
        "```\n",
        "f (k1, v1) -> (k2,v2)*\n",
        "g (k2, v2*) -> (k3,v3)*\n",
        "\n",
        "mapreduce ((k1,v1)*) -> (k3,v3)*\n",
        "groupby ((k2,v2)*) -> (k2,v2*)*\n",
        "flatten (e2**) -> e2*\n",
        "\n",
        "mapreduce .map(f).flatten.groupby(k2).map(g).flatten\n",
        "```\n",
        "\n",
        "\n"
      ]
    },
    {
      "cell_type": "markdown",
      "metadata": {
        "id": "QtTFyqke3KGe"
      },
      "source": [
        "# Примеры"
      ]
    },
    {
      "cell_type": "markdown",
      "metadata": {
        "id": "BNhh5763w5Vn"
      },
      "source": [
        "## SQL"
      ]
    },
    {
      "cell_type": "code",
      "metadata": {
        "id": "QkyurnvGxBGk",
        "colab": {
          "base_uri": "https://localhost:8080/"
        },
        "outputId": "d58611d1-5cb8-410b-e82c-66f8d695a4fc"
      },
      "source": [
        "from typing import NamedTuple # requires python 3.6+\n",
        "from typing import Iterator\n",
        "\n",
        "class User(NamedTuple):\n",
        "  id: int\n",
        "  age: str\n",
        "  social_contacts: int\n",
        "  gender: str\n",
        "\n",
        "input_collection = [\n",
        "    User(id=0, age=55, gender='male', social_contacts=20),\n",
        "    User(id=1, age=25, gender='female', social_contacts=240),\n",
        "    User(id=2, age=25, gender='female', social_contacts=500),\n",
        "    User(id=3, age=33, gender='female', social_contacts=800)\n",
        "]\n",
        "\n",
        "def MAP(_, row:NamedTuple):\n",
        "  if (row.gender == 'female'):\n",
        "    yield (row.age, row)\n",
        "\n",
        "def REDUCE(age:str, rows:Iterator[NamedTuple]):\n",
        "  sum = 0\n",
        "  count = 0\n",
        "  for row in rows:\n",
        "    sum += row.social_contacts\n",
        "    count += 1\n",
        "  if (count > 0):\n",
        "    yield (age, sum/count)\n",
        "  else:\n",
        "    yield (age, 0)\n",
        "\n",
        "def RECORDREADER():\n",
        "  return [(u.id, u) for u in input_collection]\n",
        "\n",
        "output = MapReduce(RECORDREADER, MAP, REDUCE)\n",
        "output = list(output)\n",
        "output"
      ],
      "execution_count": 14,
      "outputs": [
        {
          "output_type": "execute_result",
          "data": {
            "text/plain": [
              "[(25, 370.0), (33, 800.0)]"
            ]
          },
          "metadata": {},
          "execution_count": 14
        }
      ]
    },
    {
      "cell_type": "markdown",
      "metadata": {
        "id": "kNKYIeerx0nY"
      },
      "source": [
        "## Matrix-Vector multiplication"
      ]
    },
    {
      "cell_type": "code",
      "metadata": {
        "id": "rwcntRcCyi1V",
        "colab": {
          "base_uri": "https://localhost:8080/"
        },
        "outputId": "21c477cf-994d-413c-97df-3e125a5735e9"
      },
      "source": [
        "from typing import Iterator\n",
        "import numpy as np\n",
        "\n",
        "mat = np.ones((5,4))\n",
        "vec = np.random.rand(4) # in-memory vector in all map tasks\n",
        "\n",
        "def MAP(coordinates:(int, int), value:int):\n",
        "  i, j = coordinates\n",
        "  yield (i, value*vec[j])\n",
        "\n",
        "def REDUCE(i:int, products:Iterator[NamedTuple]):\n",
        "  sum = 0\n",
        "  for p in products:\n",
        "    sum += p\n",
        "  yield (i, sum)\n",
        "\n",
        "def RECORDREADER():\n",
        "  for i in range(mat.shape[0]):\n",
        "    for j in range(mat.shape[1]):\n",
        "      yield ((i, j), mat[i,j])\n",
        "\n",
        "output = MapReduce(RECORDREADER, MAP, REDUCE)\n",
        "output = list(output)\n",
        "output"
      ],
      "execution_count": 15,
      "outputs": [
        {
          "output_type": "execute_result",
          "data": {
            "text/plain": [
              "[(0, np.float64(1.8796805951418665)),\n",
              " (1, np.float64(1.8796805951418665)),\n",
              " (2, np.float64(1.8796805951418665)),\n",
              " (3, np.float64(1.8796805951418665)),\n",
              " (4, np.float64(1.8796805951418665))]"
            ]
          },
          "metadata": {},
          "execution_count": 15
        }
      ]
    },
    {
      "cell_type": "markdown",
      "metadata": {
        "id": "ruZREYdi2o4O"
      },
      "source": [
        "## Inverted index"
      ]
    },
    {
      "cell_type": "code",
      "metadata": {
        "id": "vt9H9Alf3TYv",
        "colab": {
          "base_uri": "https://localhost:8080/"
        },
        "outputId": "47abca1e-6fdf-4c3b-e4d7-40284fc6d19a"
      },
      "source": [
        "from typing import Iterator\n",
        "\n",
        "d1 = \"it is what it is\"\n",
        "d2 = \"what is it\"\n",
        "d3 = \"it is a banana\"\n",
        "documents = [d1, d2, d3]\n",
        "\n",
        "def RECORDREADER():\n",
        "  for (docid, document) in enumerate(documents):\n",
        "    yield (\"{}\".format(docid), document)\n",
        "\n",
        "def MAP(docId:str, body:str):\n",
        "  for word in set(body.split(' ')):\n",
        "    yield (word, docId)\n",
        "\n",
        "def REDUCE(word:str, docIds:Iterator[str]):\n",
        "  yield (word, sorted(docIds))\n",
        "\n",
        "output = MapReduce(RECORDREADER, MAP, REDUCE)\n",
        "output = list(output)\n",
        "output"
      ],
      "execution_count": 16,
      "outputs": [
        {
          "output_type": "execute_result",
          "data": {
            "text/plain": [
              "[('what', ['0', '1']),\n",
              " ('it', ['0', '1', '2']),\n",
              " ('is', ['0', '1', '2']),\n",
              " ('a', ['2']),\n",
              " ('banana', ['2'])]"
            ]
          },
          "metadata": {},
          "execution_count": 16
        }
      ]
    },
    {
      "cell_type": "markdown",
      "metadata": {
        "id": "R7az-6DA6qr2"
      },
      "source": [
        "## WordCount"
      ]
    },
    {
      "cell_type": "code",
      "metadata": {
        "id": "dN-nbtgG6uYG",
        "colab": {
          "base_uri": "https://localhost:8080/"
        },
        "outputId": "a70d7c36-3e7d-4547-e19f-ab96fef87cd8"
      },
      "source": [
        "from typing import Iterator\n",
        "\n",
        "d1 = \"\"\"\n",
        "it is what it is\n",
        "it is what it is\n",
        "it is what it is\"\"\"\n",
        "d2 = \"\"\"\n",
        "what is it\n",
        "what is it\"\"\"\n",
        "d3 = \"\"\"\n",
        "it is a banana\"\"\"\n",
        "documents = [d1, d2, d3]\n",
        "\n",
        "def RECORDREADER():\n",
        "  for (docid, document) in enumerate(documents):\n",
        "    for (lineid, line) in enumerate(document.split('\\n')):\n",
        "      yield (\"{}:{}\".format(docid,lineid), line)\n",
        "\n",
        "def MAP(docId:str, line:str):\n",
        "  for word in line.split(\" \"):\n",
        "    yield (word, 1)\n",
        "\n",
        "def REDUCE(word:str, counts:Iterator[int]):\n",
        "  sum = 0\n",
        "  for c in counts:\n",
        "    sum += c\n",
        "  yield (word, sum)\n",
        "\n",
        "output = MapReduce(RECORDREADER, MAP, REDUCE)\n",
        "output = list(output)\n",
        "output"
      ],
      "execution_count": 17,
      "outputs": [
        {
          "output_type": "execute_result",
          "data": {
            "text/plain": [
              "[('', 3), ('it', 9), ('is', 9), ('what', 5), ('a', 1), ('banana', 1)]"
            ]
          },
          "metadata": {},
          "execution_count": 17
        }
      ]
    },
    {
      "cell_type": "markdown",
      "metadata": {
        "id": "h-jRAcYCAkkk"
      },
      "source": [
        "# MapReduce Distributed\n",
        "\n",
        "Добавляется в модель фабрика RECORDREARER-ов --- INPUTFORMAT, функция распределения промежуточных результатов по партициям PARTITIONER, и функция COMBINER для частичной аггрегации промежуточных результатов до распределения по новым партициям."
      ]
    },
    {
      "cell_type": "code",
      "metadata": {
        "id": "nw-b-xJsApgW"
      },
      "source": [
        "def flatten(nested_iterable):\n",
        "  for iterable in nested_iterable:\n",
        "    for element in iterable:\n",
        "      yield element\n",
        "\n",
        "def groupbykey(iterable):\n",
        "  t = {}\n",
        "  for (k2, v2) in iterable:\n",
        "    t[k2] = t.get(k2, []) + [v2]\n",
        "  return t.items()\n",
        "\n",
        "def groupbykey_distributed(map_partitions, PARTITIONER):\n",
        "  global reducers\n",
        "  partitions = [dict() for _ in range(reducers)]\n",
        "  for map_partition in map_partitions:\n",
        "    for (k2, v2) in map_partition:\n",
        "      p = partitions[PARTITIONER(k2)]\n",
        "      p[k2] = p.get(k2, []) + [v2]\n",
        "  return [(partition_id, sorted(partition.items(), key=lambda x: x[0])) for (partition_id, partition) in enumerate(partitions)]\n",
        "\n",
        "def PARTITIONER(obj):\n",
        "  global reducers\n",
        "  return hash(obj) % reducers\n",
        "\n",
        "def MapReduceDistributed(INPUTFORMAT, MAP, REDUCE, PARTITIONER=PARTITIONER, COMBINER=None):\n",
        "  map_partitions = map(lambda record_reader: flatten(map(lambda k1v1: MAP(*k1v1), record_reader)), INPUTFORMAT())\n",
        "  if COMBINER != None:\n",
        "    map_partitions = map(lambda map_partition: flatten(map(lambda k2v2: COMBINER(*k2v2), groupbykey(map_partition))), map_partitions)\n",
        "  reduce_partitions = groupbykey_distributed(map_partitions, PARTITIONER) # shuffle\n",
        "  reduce_outputs = map(lambda reduce_partition: (reduce_partition[0], flatten(map(lambda reduce_input_group: REDUCE(*reduce_input_group), reduce_partition[1]))), reduce_partitions)\n",
        "\n",
        "  print(\"{} key-value pairs were sent over a network.\".format(sum([len(vs) for (k,vs) in flatten([partition for (partition_id, partition) in reduce_partitions])])))\n",
        "  return reduce_outputs"
      ],
      "execution_count": 18,
      "outputs": []
    },
    {
      "cell_type": "markdown",
      "metadata": {
        "id": "kxirlf3XqZxY"
      },
      "source": [
        "## Спецификация MapReduce Distributed\n",
        "\n",
        "\n",
        "```\n",
        "f (k1, v1) -> (k2,v2)*\n",
        "g (k2, v2*) -> (k3,v3)*\n",
        "\n",
        "e1 (k1, v1)\n",
        "e2 (k2, v2)\n",
        "partition1 (k2, v2)*\n",
        "partition2 (k2, v2*)*\n",
        "\n",
        "flatmap (e1->e2*, e1*) -> partition1*\n",
        "groupby (partition1*) -> partition2*\n",
        "\n",
        "mapreduce ((k1,v1)*) -> (k3,v3)*\n",
        "mapreduce .flatmap(f).groupby(k2).flatmap(g)\n",
        "```\n",
        "\n"
      ]
    },
    {
      "cell_type": "markdown",
      "metadata": {
        "id": "CWYw_CpbbY3C"
      },
      "source": [
        "## WordCount"
      ]
    },
    {
      "cell_type": "code",
      "metadata": {
        "id": "uR_zfGFkMZlp",
        "colab": {
          "base_uri": "https://localhost:8080/"
        },
        "outputId": "e14423fb-cc50-4294-94c9-19c49fed457b"
      },
      "source": [
        "from typing import Iterator\n",
        "import numpy as np\n",
        "\n",
        "d1 = \"\"\"\n",
        "it is what it is\n",
        "it is what it is\n",
        "it is what it is\"\"\"\n",
        "d2 = \"\"\"\n",
        "what is it\n",
        "what is it\"\"\"\n",
        "d3 = \"\"\"\n",
        "it is a banana\"\"\"\n",
        "documents = [d1, d2, d3, d1, d2, d3]\n",
        "\n",
        "maps = 3\n",
        "reducers = 2\n",
        "\n",
        "def INPUTFORMAT():\n",
        "  global maps\n",
        "\n",
        "  def RECORDREADER(split):\n",
        "    for (docid, document) in enumerate(split):\n",
        "      for (lineid, line) in enumerate(document.split('\\n')):\n",
        "        yield (\"{}:{}\".format(docid,lineid), line)\n",
        "\n",
        "  split_size =  int(np.ceil(len(documents)/maps))\n",
        "  for i in range(0, len(documents), split_size):\n",
        "    yield RECORDREADER(documents[i:i+split_size])\n",
        "\n",
        "def MAP(docId:str, line:str):\n",
        "  for word in line.split(\" \"):\n",
        "    yield (word, 1)\n",
        "\n",
        "def REDUCE(word:str, counts:Iterator[int]):\n",
        "  sum = 0\n",
        "  for c in counts:\n",
        "    sum += c\n",
        "  yield (word, sum)\n",
        "\n",
        "# try to set COMBINER=REDUCER and look at the number of values sent over the network\n",
        "partitioned_output = MapReduceDistributed(INPUTFORMAT, MAP, REDUCE, COMBINER=REDUCE)\n",
        "partitioned_output = [(partition_id, list(partition)) for (partition_id, partition) in partitioned_output]\n",
        "partitioned_output"
      ],
      "execution_count": 19,
      "outputs": [
        {
          "output_type": "stream",
          "name": "stdout",
          "text": [
            "16 key-value pairs were sent over a network.\n"
          ]
        },
        {
          "output_type": "execute_result",
          "data": {
            "text/plain": [
              "[(0, [('', 6), ('banana', 2), ('is', 18)]),\n",
              " (1, [('a', 2), ('it', 18), ('what', 10)])]"
            ]
          },
          "metadata": {},
          "execution_count": 19
        }
      ]
    },
    {
      "cell_type": "markdown",
      "metadata": {
        "id": "gCJGx8IQ87xS"
      },
      "source": [
        "## TeraSort"
      ]
    },
    {
      "cell_type": "code",
      "metadata": {
        "id": "P2v8v1v_8_YR",
        "colab": {
          "base_uri": "https://localhost:8080/"
        },
        "outputId": "f8546311-c1a3-4b51-941b-9d7467e75c3d"
      },
      "source": [
        "import numpy as np\n",
        "\n",
        "input_values = np.random.rand(30)\n",
        "maps = 3\n",
        "reducers = 2\n",
        "min_value = 0.0\n",
        "max_value = 1.0\n",
        "\n",
        "def INPUTFORMAT():\n",
        "  global maps\n",
        "\n",
        "  def RECORDREADER(split):\n",
        "    for value in split:\n",
        "        yield (value, None)\n",
        "\n",
        "  split_size =  int(np.ceil(len(input_values)/maps))\n",
        "  for i in range(0, len(input_values), split_size):\n",
        "    yield RECORDREADER(input_values[i:i+split_size])\n",
        "\n",
        "def MAP(value:int, _):\n",
        "  yield (value, None)\n",
        "\n",
        "def PARTITIONER(key):\n",
        "  global reducers\n",
        "  global max_value\n",
        "  global min_value\n",
        "  bucket_size = (max_value-min_value)/reducers\n",
        "  bucket_id = 0\n",
        "  while((key>(bucket_id+1)*bucket_size) and ((bucket_id+1)*bucket_size<max_value)):\n",
        "    bucket_id += 1\n",
        "  return bucket_id\n",
        "\n",
        "def REDUCE(value:int, _):\n",
        "  yield (None,value)\n",
        "\n",
        "partitioned_output = MapReduceDistributed(INPUTFORMAT, MAP, REDUCE, COMBINER=None, PARTITIONER=PARTITIONER)\n",
        "partitioned_output = [(partition_id, list(partition)) for (partition_id, partition) in partitioned_output]\n",
        "partitioned_output"
      ],
      "execution_count": 20,
      "outputs": [
        {
          "output_type": "stream",
          "name": "stdout",
          "text": [
            "30 key-value pairs were sent over a network.\n"
          ]
        },
        {
          "output_type": "execute_result",
          "data": {
            "text/plain": [
              "[(0,\n",
              "  [(None, np.float64(0.006471586233904092)),\n",
              "   (None, np.float64(0.015202298253704227)),\n",
              "   (None, np.float64(0.03524638003872993)),\n",
              "   (None, np.float64(0.10717362123019258)),\n",
              "   (None, np.float64(0.13368776885828793)),\n",
              "   (None, np.float64(0.13581339094477496)),\n",
              "   (None, np.float64(0.14959090385465035)),\n",
              "   (None, np.float64(0.18765321376080923)),\n",
              "   (None, np.float64(0.2564055886463211)),\n",
              "   (None, np.float64(0.2845867684672234)),\n",
              "   (None, np.float64(0.30630279704157926)),\n",
              "   (None, np.float64(0.307792451026344)),\n",
              "   (None, np.float64(0.33489094938564024)),\n",
              "   (None, np.float64(0.3942712920437974)),\n",
              "   (None, np.float64(0.40341604016653)),\n",
              "   (None, np.float64(0.4121539510857706)),\n",
              "   (None, np.float64(0.4420833711486367))]),\n",
              " (1,\n",
              "  [(None, np.float64(0.5052484333330882)),\n",
              "   (None, np.float64(0.5170885485848169)),\n",
              "   (None, np.float64(0.5355547413322239)),\n",
              "   (None, np.float64(0.5414944872261009)),\n",
              "   (None, np.float64(0.5947530071619038)),\n",
              "   (None, np.float64(0.6030726126198444)),\n",
              "   (None, np.float64(0.6660911834377281)),\n",
              "   (None, np.float64(0.6884635573617368)),\n",
              "   (None, np.float64(0.7920974900592721)),\n",
              "   (None, np.float64(0.8280988674052682)),\n",
              "   (None, np.float64(0.8445950983625662)),\n",
              "   (None, np.float64(0.8737320174920888)),\n",
              "   (None, np.float64(0.8854236354590965))])]"
            ]
          },
          "metadata": {},
          "execution_count": 20
        }
      ]
    },
    {
      "cell_type": "code",
      "metadata": {
        "id": "MQhoJaVZI93G"
      },
      "source": [],
      "execution_count": 20,
      "outputs": []
    },
    {
      "cell_type": "markdown",
      "metadata": {
        "id": "Iy65YJTH99iT"
      },
      "source": [
        "# Упражнения\n",
        "Упражнения взяты из Rajaraman A., Ullman J. D. Mining of massive datasets. – Cambridge University Press, 2011.\n",
        "\n",
        "\n",
        "Для выполнения заданий переопределите функции RECORDREADER, MAP, REDUCE. Для модели распределённой системы может потребоваться переопределение функций PARTITION и COMBINER."
      ]
    },
    {
      "cell_type": "markdown",
      "metadata": {
        "id": "cfvAeZm3S8S8"
      },
      "source": [
        "### Максимальное значение ряда\n",
        "\n",
        "Разработайте MapReduce алгоритм, который находит максимальное число входного списка чисел."
      ]
    },
    {
      "cell_type": "code",
      "metadata": {
        "id": "3GRA1JR-Tkbg",
        "colab": {
          "base_uri": "https://localhost:8080/"
        },
        "outputId": "2072e590-a0b8-4329-86e0-58b8094d22cb"
      },
      "source": [
        "import numpy as np\n",
        "\n",
        "input_values = [np.random.randint(10) for _ in range(10)]\n",
        "print(f\"Input values: {input_values}\")\n",
        "\n",
        "def RECORDREADER():\n",
        "  for value in input_values:\n",
        "    yield (None, value)\n",
        "\n",
        "def MAP(_, value:int):\n",
        "  yield (None, value)\n",
        "\n",
        "def REDUCE(_, values:Iterator[int]):\n",
        "  yield max(values)\n",
        "\n",
        "output = MapReduce(RECORDREADER, MAP, REDUCE)\n",
        "output = list(output)\n",
        "print(f\"Max value: {output}\")"
      ],
      "execution_count": 21,
      "outputs": [
        {
          "output_type": "stream",
          "name": "stdout",
          "text": [
            "Input values: [4, 4, 8, 7, 5, 2, 1, 0, 0, 8]\n",
            "Max value: [8]\n"
          ]
        }
      ]
    },
    {
      "cell_type": "markdown",
      "metadata": {
        "id": "k86bXnqZTk-U"
      },
      "source": [
        "### Арифметическое среднее\n",
        "\n",
        "Разработайте MapReduce алгоритм, который находит арифметическое среднее.\n",
        "\n",
        "$$\\overline{X} = \\frac{1}{n}\\sum_{i=0}^{n} x_i$$\n"
      ]
    },
    {
      "cell_type": "code",
      "metadata": {
        "id": "MPoY5pkfUNZf",
        "colab": {
          "base_uri": "https://localhost:8080/"
        },
        "outputId": "98753bd4-2c16-45a0-c1d3-ab9c20dfd877"
      },
      "source": [
        "import numpy as np\n",
        "\n",
        "input_values = [np.random.randint(10) for _ in range(10)]\n",
        "print(f\"Input values: {input_values}\")\n",
        "\n",
        "def RECORDREADER():\n",
        "  for value in input_values:\n",
        "    yield (None, value)\n",
        "\n",
        "def MAP(_, value:int):\n",
        "  yield (None, value)\n",
        "\n",
        "def REDUCE(_, values:Iterator[int]):\n",
        "  sum, count = 0, 0\n",
        "  for value in values:\n",
        "    sum += value\n",
        "    count += 1\n",
        "  yield sum/count\n",
        "\n",
        "output = MapReduce(RECORDREADER, MAP, REDUCE)\n",
        "output = list(output)\n",
        "print(f\"Mean: {output}\")"
      ],
      "execution_count": 22,
      "outputs": [
        {
          "output_type": "stream",
          "name": "stdout",
          "text": [
            "Input values: [6, 0, 2, 2, 8, 2, 3, 3, 5, 6]\n",
            "Mean: [3.7]\n"
          ]
        }
      ]
    },
    {
      "cell_type": "markdown",
      "metadata": {
        "id": "xanzszhsIlLe"
      },
      "source": [
        "### GroupByKey на основе сортировки\n",
        "\n",
        "Реализуйте groupByKey на основе сортировки, проверьте его работу на примерах"
      ]
    },
    {
      "cell_type": "code",
      "metadata": {
        "id": "hQPn3USsIkEC",
        "colab": {
          "base_uri": "https://localhost:8080/"
        },
        "outputId": "ba5f80e5-afe9-42d1-f374-d9b27b41f98d"
      },
      "source": [
        "class Student(NamedTuple):\n",
        "  id: int\n",
        "  group: str\n",
        "  name: str\n",
        "\n",
        "input_collection = [\n",
        "    Student(id=0, group='B', name='Ivan'),\n",
        "    Student(id=1, group='A', name='Sasha'),\n",
        "    Student(id=2, group='B', name='Denis'),\n",
        "]\n",
        "\n",
        "def RECORDREADER():\n",
        "  return [(s.group, s.id) for s in input_collection]\n",
        "\n",
        "def MAP(group:str, id:int):\n",
        "  yield(group, id)\n",
        "\n",
        "def sorted_groupbykey(iterable):\n",
        "  result = []\n",
        "  current_key = None\n",
        "  current_group = []\n",
        "\n",
        "  for k, v in sorted(iterable, key=lambda x: x[0]):\n",
        "    if k != current_key:\n",
        "      if current_key is not None:\n",
        "        result += [(current_key, current_group)]\n",
        "      current_key = k\n",
        "      current_group = [v]\n",
        "    else:\n",
        "      current_group += [v]\n",
        "\n",
        "  if current_key is not None:\n",
        "    result += [(current_key, current_group)]\n",
        "\n",
        "  return result\n",
        "\n",
        "def REDUCE(group:str, stundents:Iterator[NamedTuple]):\n",
        "  count = 0\n",
        "  for s in stundents:\n",
        "    count += 1\n",
        "  yield(group, count)\n",
        "\n",
        "map_output = flatten(map(lambda x: MAP(*x), RECORDREADER()))\n",
        "map_output = list(map_output)\n",
        "print(f'Map output: {map_output}')\n",
        "\n",
        "shuffle_output = sorted_groupbykey(map_output)\n",
        "shuffle_output = list(shuffle_output)\n",
        "print(f'Shuffle output: {shuffle_output}')\n",
        "\n",
        "reduce_output = flatten(map(lambda x: REDUCE(*x), shuffle_output))\n",
        "reduce_output = list(reduce_output)\n",
        "print(f'Reduce output: {reduce_output}')"
      ],
      "execution_count": 23,
      "outputs": [
        {
          "output_type": "stream",
          "name": "stdout",
          "text": [
            "Map output: [('B', 0), ('A', 1), ('B', 2)]\n",
            "Shuffle output: [('A', [1]), ('B', [0, 2])]\n",
            "Reduce output: [('A', 1), ('B', 2)]\n"
          ]
        }
      ]
    },
    {
      "cell_type": "markdown",
      "metadata": {
        "id": "5SgEjCZyGnu6"
      },
      "source": [
        "### Drop duplicates (set construction, unique elements, distinct)\n",
        "\n",
        "Реализуйте распределённую операцию исключения дубликатов"
      ]
    },
    {
      "cell_type": "code",
      "metadata": {
        "id": "okjbyApjGhMt",
        "colab": {
          "base_uri": "https://localhost:8080/"
        },
        "outputId": "8537704e-83a9-471b-c120-c2547d033e1d"
      },
      "source": [
        "from typing import Iterator\n",
        "import numpy as np\n",
        "\n",
        "d1 = \"\"\"\n",
        "it is what it is\n",
        "it is what it is\n",
        "it is what it is\"\"\"\n",
        "d2 = \"\"\"\n",
        "what is it\n",
        "what is it\"\"\"\n",
        "d3 = \"\"\"\n",
        "it is a banana\"\"\"\n",
        "documents = [d1, d2, d3, d1, d2, d3]\n",
        "\n",
        "maps = 3\n",
        "reducers = 2\n",
        "\n",
        "def INPUTFORMAT():\n",
        "  global maps\n",
        "\n",
        "  def RECORDREADER(split):\n",
        "    for (docid, document) in enumerate(split):\n",
        "      for (lineid, line) in enumerate(document.split('\\n')):\n",
        "        yield (\"{}:{}\".format(docid,lineid), line)\n",
        "\n",
        "  split_size =  int(np.ceil(len(documents)/maps))\n",
        "  for i in range(0, len(documents), split_size):\n",
        "    yield RECORDREADER(documents[i:i+split_size])\n",
        "\n",
        "def MAP(docId:str, line:str):\n",
        "  for word in line.split(\" \"):\n",
        "    yield (word, 1)\n",
        "\n",
        "def REDUCE(word:str, counts:Iterator[int]):\n",
        "  yield word\n",
        "\n",
        "partitioned_output = MapReduceDistributed(INPUTFORMAT, MAP, REDUCE, COMBINER=None)\n",
        "partitioned_output = [(partition_id, list(partition)) for (partition_id, partition) in partitioned_output]\n",
        "partitioned_output"
      ],
      "execution_count": 24,
      "outputs": [
        {
          "output_type": "stream",
          "name": "stdout",
          "text": [
            "56 key-value pairs were sent over a network.\n"
          ]
        },
        {
          "output_type": "execute_result",
          "data": {
            "text/plain": [
              "[(0, ['', 'banana', 'is']), (1, ['a', 'it', 'what'])]"
            ]
          },
          "metadata": {},
          "execution_count": 24
        }
      ]
    },
    {
      "cell_type": "markdown",
      "metadata": {
        "id": "e7sRGoTXuJze"
      },
      "source": [
        "#Операторы реляционной алгебры\n",
        "### Selection (Выборка)\n",
        "\n",
        "**The Map Function**: Для  каждого кортежа $t \\in R$ вычисляется истинность предиката $C$. В случае истины создаётся пара ключ-значение $(t, t)$. В паре ключ и значение одинаковы, равны $t$.\n",
        "\n",
        "**The Reduce Function:** Роль функции Reduce выполняет функция идентичности, которая возвращает то же значение, что получила на вход.\n",
        "\n"
      ]
    },
    {
      "cell_type": "code",
      "metadata": {
        "id": "4nKIKe59uIfc",
        "colab": {
          "base_uri": "https://localhost:8080/"
        },
        "outputId": "557420a6-22e1-49fb-b7d7-7690f94ae389"
      },
      "source": [
        "import numpy as np\n",
        "\n",
        "R = [(np.random.randint(10), np.random.randint(10))  for _ in range(10)]\n",
        "print(f\"Input values: {R}\")\n",
        "\n",
        "def C(t):\n",
        "  return sum(t) > 10\n",
        "\n",
        "def RECORDREADER():\n",
        "  for t in R:\n",
        "    yield (None, t)\n",
        "\n",
        "def MAP(_, t):\n",
        "  if C(t):\n",
        "    yield (t, t)\n",
        "\n",
        "def REDUCE(k, v):\n",
        "  yield (k, v)\n",
        "\n",
        "output = MapReduce(RECORDREADER, MAP, REDUCE)\n",
        "output = list(output)\n",
        "print(f\"Output: {output}\")"
      ],
      "execution_count": 25,
      "outputs": [
        {
          "output_type": "stream",
          "name": "stdout",
          "text": [
            "Input values: [(9, 8), (1, 3), (1, 2), (9, 7), (5, 7), (9, 7), (2, 0), (5, 4), (2, 3), (5, 1)]\n",
            "Output: [((9, 8), [(9, 8)]), ((9, 7), [(9, 7), (9, 7)]), ((5, 7), [(5, 7)])]\n"
          ]
        }
      ]
    },
    {
      "cell_type": "markdown",
      "metadata": {
        "id": "w27Ca-_Ku85V"
      },
      "source": [
        "### Projection (Проекция)\n",
        "\n",
        "Проекция на множество атрибутов $S$.\n",
        "\n",
        "**The Map Function:** Для каждого кортежа $t \\in R$ создайте кортеж $t′$, исключая  из $t$ те значения, атрибуты которых не принадлежат  $S$. Верните пару $(t′, t′)$.\n",
        "\n",
        "**The Reduce Function:** Для каждого ключа $t′$, созданного любой Map задачей, вы получаете одну или несколько пар $(t′, t′)$. Reduce функция преобразует $(t′, [t′, t′, . . . , t′])$ в $(t′, t′)$, так, что для ключа $t′$ возвращается одна пара  $(t′, t′)$."
      ]
    },
    {
      "cell_type": "code",
      "metadata": {
        "id": "BEvuY4GqvhS6",
        "colab": {
          "base_uri": "https://localhost:8080/"
        },
        "outputId": "fb3f8cb3-fe55-4f0d-f42b-e3aa6abe556b"
      },
      "source": [
        "import numpy as np\n",
        "\n",
        "R = [(np.random.randint(10), np.random.randint(10))  for _ in range(10)]\n",
        "print(f\"Input values: {R}\")\n",
        "\n",
        "S = [1, 2, 3, 4]\n",
        "\n",
        "def RECORDREADER():\n",
        "  for t in R:\n",
        "    yield (None, t)\n",
        "\n",
        "def MAP(_, t):\n",
        "  values = []\n",
        "  for value in t:\n",
        "    if value in S:\n",
        "      values += [value]\n",
        "\n",
        "  t_new = tuple(values)\n",
        "  yield (t_new, t_new)\n",
        "\n",
        "def REDUCE(k, v):\n",
        "  yield (k, k)\n",
        "\n",
        "output = MapReduce(RECORDREADER, MAP, REDUCE)\n",
        "output = list(output)\n",
        "print(f\"Result: {output}\")"
      ],
      "execution_count": 26,
      "outputs": [
        {
          "output_type": "stream",
          "name": "stdout",
          "text": [
            "Input values: [(3, 2), (3, 8), (2, 5), (9, 1), (4, 1), (2, 7), (0, 8), (5, 5), (8, 7), (9, 7)]\n",
            "Result: [((3, 2), (3, 2)), ((3,), (3,)), ((2,), (2,)), ((1,), (1,)), ((4, 1), (4, 1)), ((), ())]\n"
          ]
        }
      ]
    },
    {
      "cell_type": "markdown",
      "metadata": {
        "id": "7gau6lKXvn2R"
      },
      "source": [
        "### Union (Объединение)\n",
        "\n",
        "**The Map Function:** Превратите каждый входной кортеж $t$ в пару ключ-значение $(t, t)$.\n",
        "\n",
        "**The Reduce Function:** С каждым ключом $t$ будет ассоциировано одно или два значений. В обоих случаях создайте $(t, t)$ в качестве выходного значения."
      ]
    },
    {
      "cell_type": "code",
      "metadata": {
        "id": "Sns7a5agv3nw",
        "colab": {
          "base_uri": "https://localhost:8080/"
        },
        "outputId": "425e0ef5-3f16-47f2-f046-de830cd5598f"
      },
      "source": [
        "import numpy as np\n",
        "\n",
        "R = [(np.random.randint(10), np.random.randint(10))  for _ in range(10)]\n",
        "print(f\"Input values: {R}\")\n",
        "\n",
        "def RECORDREADER():\n",
        "  for t in R:\n",
        "    yield (None, t)\n",
        "\n",
        "def MAP(_, t):\n",
        "  yield (t, t)\n",
        "\n",
        "def REDUCE(k, v):\n",
        "  yield (k, k)\n",
        "\n",
        "output = MapReduce(RECORDREADER, MAP, REDUCE)\n",
        "output = list(output)\n",
        "print(f\"Result: {output}\")"
      ],
      "execution_count": 27,
      "outputs": [
        {
          "output_type": "stream",
          "name": "stdout",
          "text": [
            "Input values: [(4, 2), (2, 4), (5, 2), (4, 0), (6, 4), (5, 7), (5, 9), (3, 6), (7, 1), (2, 2)]\n",
            "Result: [((4, 2), (4, 2)), ((2, 4), (2, 4)), ((5, 2), (5, 2)), ((4, 0), (4, 0)), ((6, 4), (6, 4)), ((5, 7), (5, 7)), ((5, 9), (5, 9)), ((3, 6), (3, 6)), ((7, 1), (7, 1)), ((2, 2), (2, 2))]\n"
          ]
        }
      ]
    },
    {
      "cell_type": "markdown",
      "metadata": {
        "id": "dQ8TuEbjv4J8"
      },
      "source": [
        "### Intersection (Пересечение)\n",
        "\n",
        "**The Map Function:** Превратите каждый кортеж $t$ в пары ключ-значение $(t, t)$.\n",
        "\n",
        "**The Reduce Function:** Если для ключа $t$ есть список из двух элементов $[t, t]$ $-$ создайте пару $(t, t)$. Иначе, ничего не создавайте."
      ]
    },
    {
      "cell_type": "code",
      "metadata": {
        "id": "XKlBZh4IwERR",
        "colab": {
          "base_uri": "https://localhost:8080/"
        },
        "outputId": "4858bb15-71db-42ff-bdb0-3e66499fafd0"
      },
      "source": [
        "import numpy as np\n",
        "\n",
        "R = [(np.random.randint(2), np.random.randint(2))  for _ in range(10)]\n",
        "print(f\"Input values: {R}\")\n",
        "\n",
        "def RECORDREADER():\n",
        "  for t in R:\n",
        "    yield (None, t)\n",
        "\n",
        "def MAP(_, t):\n",
        "  yield (t, t)\n",
        "\n",
        "def REDUCE(k, v):\n",
        "  if len(v) == 2:\n",
        "    yield (k, k)\n",
        "\n",
        "output = MapReduce(RECORDREADER, MAP, REDUCE)\n",
        "output = list(output)\n",
        "print(f\"Result: {output}\")"
      ],
      "execution_count": 28,
      "outputs": [
        {
          "output_type": "stream",
          "name": "stdout",
          "text": [
            "Input values: [(0, 1), (1, 1), (1, 0), (0, 0), (0, 1), (0, 1), (0, 0), (0, 1), (1, 0), (1, 1)]\n",
            "Result: [((1, 1), (1, 1)), ((1, 0), (1, 0)), ((0, 0), (0, 0))]\n"
          ]
        }
      ]
    },
    {
      "cell_type": "markdown",
      "metadata": {
        "id": "AVOpqoY3wE5k"
      },
      "source": [
        "### Difference (Разница)\n",
        "\n",
        "**The Map Function:** Для кортежа $t \\in R$, создайте пару $(t, R)$, и для кортежа $t \\in S$, создайте пару $(t, S)$. Задумка заключается в том, чтобы значение пары было именем отношения $R$ or $S$, которому принадлежит кортеж (а лучше, единичный бит, по которому можно два отношения различить $R$ or $S$), а не весь набор атрибутов отношения.\n",
        "\n",
        "**The Reduce Function:** Для каждого ключа $t$, если соответствующее значение является списком $[R]$, создайте пару $(t, t)$. В иных случаях не предпринимайте действий."
      ]
    },
    {
      "cell_type": "code",
      "metadata": {
        "id": "QE_AC09lwZIZ",
        "colab": {
          "base_uri": "https://localhost:8080/"
        },
        "outputId": "1f7de554-f22c-4cea-893b-6148b3cc5b17"
      },
      "source": [
        "import numpy as np\n",
        "\n",
        "input_values = [(np.random.randint(10), np.random.randint(10), np.random.randint(2))  for _ in range(10)]\n",
        "print(f\"Input values: {input_values}\")\n",
        "\n",
        "def RECORDREADER():\n",
        "  for t in input_values:\n",
        "    yield ((t[0], t[1]), t[2])\n",
        "\n",
        "def MAP(t, id):\n",
        "  yield (t, id)\n",
        "\n",
        "def REDUCE(t, id):\n",
        "  if id == [0]:\n",
        "    yield (t, t)\n",
        "\n",
        "output = MapReduce(RECORDREADER, MAP, REDUCE)\n",
        "output = list(output)\n",
        "print(f\"Result: {output}\")"
      ],
      "execution_count": 29,
      "outputs": [
        {
          "output_type": "stream",
          "name": "stdout",
          "text": [
            "Input values: [(3, 1, 0), (1, 1, 0), (8, 0, 0), (8, 5, 0), (3, 3, 0), (7, 3, 0), (7, 4, 0), (5, 1, 0), (0, 9, 0), (1, 0, 1)]\n",
            "Result: [((3, 1), (3, 1)), ((1, 1), (1, 1)), ((8, 0), (8, 0)), ((8, 5), (8, 5)), ((3, 3), (3, 3)), ((7, 3), (7, 3)), ((7, 4), (7, 4)), ((5, 1), (5, 1)), ((0, 9), (0, 9))]\n"
          ]
        }
      ]
    },
    {
      "cell_type": "markdown",
      "metadata": {
        "id": "j8I58V2VwhSm"
      },
      "source": [
        "### Natural Join\n",
        "\n",
        "**The Map Function:** Для каждого кортежа $(a, b)$ отношения $R$, создайте пару $(b,(R, a))$. Для каждого кортежа $(b, c)$ отношения $S$, создайте пару $(b,(S, c))$.\n",
        "\n",
        "**The Reduce Function:** Каждый ключ $b$ будет асоциирован со списком пар, которые принимают форму либо $(R, a)$, либо $(S, c)$. Создайте все пары, одни, состоящие из  первого компонента $R$, а другие, из первого компонента $S$, то есть $(R, a)$ и $(S, c)$. На выходе вы получаете последовательность пар ключ-значение из списков ключей и значений. Ключ не нужен. Каждое значение, это тройка $(a, b, c)$ такая, что $(R, a)$ и $(S, c)$ это принадлежат входному списку значений."
      ]
    },
    {
      "cell_type": "code",
      "metadata": {
        "id": "yHiuuTctw86I",
        "colab": {
          "base_uri": "https://localhost:8080/"
        },
        "outputId": "d1657c44-0d9a-4afc-f366-061cee7a71b0"
      },
      "source": [
        "import numpy as np\n",
        "\n",
        "input_values = [(np.random.randint(10), np.random.randint(10), np.random.randint(2))  for _ in range(10)]\n",
        "print(f\"Input values: {input_values}\")\n",
        "\n",
        "def RECORDREADER():\n",
        "  for t in input_values:\n",
        "    yield ((t[0], t[1]), t[2])\n",
        "\n",
        "def MAP(t, id):\n",
        "  if id == [0]:\n",
        "    yield ((id, t[0]), t[1])\n",
        "  else:\n",
        "    yield ((id, t[1]), t[0])\n",
        "\n",
        "def REDUCE(t:Iterator[int], id:int):\n",
        "  res = []\n",
        "  for v in t:\n",
        "    res += [v]\n",
        "  yield tuple(res)\n",
        "\n",
        "output = MapReduce(RECORDREADER, MAP, REDUCE)\n",
        "output = list(output)\n",
        "print(f\"Result: {output}\")"
      ],
      "execution_count": 30,
      "outputs": [
        {
          "output_type": "stream",
          "name": "stdout",
          "text": [
            "Input values: [(5, 9, 1), (2, 9, 1), (2, 8, 1), (3, 6, 1), (4, 1, 0), (7, 2, 1), (5, 3, 1), (3, 4, 1), (3, 3, 1), (1, 3, 0)]\n",
            "Result: [(1, 9), (1, 8), (1, 6), (0, 1), (1, 2), (1, 3), (1, 4), (0, 3)]\n"
          ]
        }
      ]
    },
    {
      "cell_type": "markdown",
      "metadata": {
        "id": "kYdlr0YUxE27"
      },
      "source": [
        "### Grouping and Aggregation (Группировка и аггрегация)\n",
        "\n",
        "**The Map Function:** Для каждого кортежа $(a, b, c$) создайте пару $(a, b)$.\n",
        "\n",
        "**The Reduce Function:** Ключ представляет ту или иную группу. Примение аггрегирующую операцию $\\theta$ к списку значений $[b1, b2, . . . , bn]$ ассоциированных с ключом $a$. Возвращайте в выходной поток $(a, x)$, где $x$ результат применения  $\\theta$ к списку. Например, если $\\theta$ это $SUM$, тогда $x = b1 + b2 + · · · + bn$, а если $\\theta$ is $MAX$, тогда $x$ это максимальное из значений $b1, b2, . . . , bn$."
      ]
    },
    {
      "cell_type": "code",
      "metadata": {
        "id": "MLPckfEGxico",
        "colab": {
          "base_uri": "https://localhost:8080/"
        },
        "outputId": "1416f369-3e79-4648-b80f-7ad2cf14b848"
      },
      "source": [
        "import numpy as np\n",
        "\n",
        "input_values = [(np.random.randint(10), np.random.randint(10), np.random.randint(10))  for _ in range(10)]\n",
        "print(f\"Input values: {input_values}\")\n",
        "\n",
        "def RECORDREADER():\n",
        "  for t in input_values:\n",
        "    yield (None, (t[0], t[1], t[2]))\n",
        "\n",
        "def MAP(_, t):\n",
        "  yield (t[0], t[1])\n",
        "\n",
        "def REDUCE(k, v:Iterator[int]):\n",
        "    yield (k, sum(v))\n",
        "\n",
        "output = MapReduce(RECORDREADER, MAP, REDUCE)\n",
        "output = list(output)\n",
        "print(f\"Result: {output}\")"
      ],
      "execution_count": 31,
      "outputs": [
        {
          "output_type": "stream",
          "name": "stdout",
          "text": [
            "Input values: [(4, 5, 6), (1, 1, 9), (3, 8, 6), (4, 6, 7), (9, 2, 4), (3, 8, 6), (4, 7, 5), (0, 2, 4), (6, 0, 3), (5, 2, 7)]\n",
            "Result: [(4, 18), (1, 1), (3, 16), (9, 2), (0, 2), (6, 0), (5, 2)]\n"
          ]
        }
      ]
    },
    {
      "cell_type": "markdown",
      "metadata": {
        "id": "03IffTEOJgOb"
      },
      "source": [
        "#"
      ]
    },
    {
      "cell_type": "markdown",
      "metadata": {
        "id": "IIrRgvG4RIS4"
      },
      "source": [
        "### Matrix-Vector multiplication\n",
        "\n",
        "Случай, когда вектор не помещается в памяти Map задачи\n"
      ]
    },
    {
      "cell_type": "code",
      "metadata": {
        "id": "KQhDbiL3zS9r"
      },
      "source": [],
      "execution_count": 31,
      "outputs": []
    },
    {
      "cell_type": "markdown",
      "metadata": {
        "id": "GIo2t7nNxvA9"
      },
      "source": [
        "## Matrix multiplication (Перемножение матриц)\n",
        "\n",
        "Если у нас есть матрица $M$ с элементами $m_{ij}$ в строке $i$ и столбце $j$, и матрица $N$ с элементами $n_{jk}$ в строке $j$ и столбце $k$, тогда их произведение $P = MN$ есть матрица $P$ с элементами $p_{ik}$ в строке $i$ и столбце $k$, где\n",
        "\n",
        "$$p_{ik} =\\sum_{j} m_{ij}n_{jk}$$\n",
        "\n",
        "Необходимым требованием является одинаковое количество столбцов в $M$ и строк в $N$, чтобы операция суммирования по  $j$ была осмысленной. Мы можем размышлять о матрице, как об отношении с тремя атрибутами: номер строки, номер столбца, само значение. Таким образом матрица $M$ предстваляется как отношение $ M(I, J, V )$, с кортежами $(i, j, m_{ij})$, и, аналогично, матрица $N$ представляется как отношение $N(J, K, W)$, с кортежами $(j, k, n_{jk})$. Так как большие матрицы как правило разреженные (большинство значений равно 0), и так как мы можем нулевыми значениями пренебречь (не хранить), такое реляционное представление достаточно эффективно для больших матриц. Однако, возможно, что координаты $i$, $j$, и $k$ неявно закодированы в смещение позиции элемента относительно начала файла, вместо явного хранения. Тогда, функция Map (или Reader) должна быть разработана таким образом, чтобы реконструировать компоненты $I$, $J$, и $K$ кортежей из смещения.\n",
        "\n",
        "Произведение $MN$ это фактически join, за которым следуют группировка по ключу и аггрегация. Таким образом join отношений $M(I, J, V )$ и $N(J, K, W)$, имеющих общим только атрибут $J$, создаст кортежи $(i, j, k, v, w)$ из каждого кортежа $(i, j, v) \\in M$ и кортежа $(j, k, w) \\in N$. Такой 5 компонентный кортеж представляет пару элементов матрицы $(m_{ij} , n_{jk})$. Что нам хотелось бы получить на самом деле, это произведение этих элементов, то есть, 4 компонентный кортеж$(i, j, k, v \\times w)$, так как он представляет произведение $m_{ij}n_{jk}$. Мы представляем отношение как результат одной MapReduce операции, в которой мы можем произвести группировку и аггрегацию, с $I$ и $K$  атрибутами, по которым идёт группировка, и суммой  $V \\times W$.\n",
        "\n",
        "\n",
        "\n"
      ]
    },
    {
      "cell_type": "code",
      "metadata": {
        "id": "1MBkGaLAYVCt"
      },
      "source": [
        "# MapReduce model\n",
        "def flatten(nested_iterable):\n",
        "  for iterable in nested_iterable:\n",
        "    for element in iterable:\n",
        "      yield element\n",
        "\n",
        "def groupbykey(iterable):\n",
        "  t = {}\n",
        "  for (k2, v2) in iterable:\n",
        "    t[k2] = t.get(k2, []) + [v2]\n",
        "  return t.items()\n",
        "\n",
        "def MapReduce(RECORDREADER, MAP, REDUCE):\n",
        "  return flatten(map(lambda x: REDUCE(*x), groupbykey(flatten(map(lambda x: MAP(*x), RECORDREADER())))))"
      ],
      "execution_count": 32,
      "outputs": []
    },
    {
      "cell_type": "markdown",
      "metadata": {
        "id": "sMspsOT0ZB35"
      },
      "source": [
        "Реализуйте перемножение матриц с использованием модельного кода MapReduce для одной машины в случае, когда одна матрица хранится в памяти, а другая генерируется RECORDREADER-ом."
      ]
    },
    {
      "cell_type": "code",
      "metadata": {
        "id": "psP1XekbsEjS"
      },
      "source": [
        "import numpy as np\n",
        "I = 2\n",
        "J = 3\n",
        "K = 4*10\n",
        "small_mat = np.random.rand(I,J) # it is legal to access this from RECORDREADER, MAP, REDUCE\n",
        "big_mat = np.random.rand(J,K)\n",
        "\n",
        "def RECORDREADER():\n",
        "  for j in range(big_mat.shape[0]):\n",
        "    for k in range(big_mat.shape[1]):\n",
        "      yield ((j,k), big_mat[j,k])\n",
        "\n",
        "def MAP(k1, v1):\n",
        "  (j, k) = k1\n",
        "  w = v1\n",
        "  for i in range(small_mat.shape[0]):\n",
        "    yield ((i, k), w * small_mat[i][j])\n",
        "\n",
        "def REDUCE(key, values):\n",
        "  (i, k) = key\n",
        "  el_value = 0\n",
        "  for v in values:\n",
        "    el_value += v\n",
        "  yield ((i, k), el_value)"
      ],
      "execution_count": 33,
      "outputs": []
    },
    {
      "cell_type": "markdown",
      "metadata": {
        "id": "rnt306LHhHrm"
      },
      "source": [
        "Проверьте своё решение"
      ]
    },
    {
      "cell_type": "code",
      "metadata": {
        "id": "Ewy_ZNYqW5a2",
        "colab": {
          "base_uri": "https://localhost:8080/"
        },
        "outputId": "2c1e55dc-6c68-40c9-d9b2-c5d66bdff9c6"
      },
      "source": [
        "# CHECK THE SOLUTION\n",
        "reference_solution = np.matmul(small_mat, big_mat)\n",
        "solution = MapReduce(RECORDREADER, MAP, REDUCE)\n",
        "\n",
        "def asmatrix(reduce_output):\n",
        "  reduce_output = list(reduce_output)\n",
        "  I = max(i for ((i,k), vw) in reduce_output)+1\n",
        "  K = max(k for ((i,k), vw) in reduce_output)+1\n",
        "  mat = np.empty(shape=(I,K))\n",
        "  for ((i,k), vw) in reduce_output:\n",
        "    mat[i,k] = vw\n",
        "  return mat\n",
        "\n",
        "np.allclose(reference_solution, asmatrix(solution))# should return true"
      ],
      "execution_count": 34,
      "outputs": [
        {
          "output_type": "execute_result",
          "data": {
            "text/plain": [
              "True"
            ]
          },
          "metadata": {},
          "execution_count": 34
        }
      ]
    },
    {
      "cell_type": "code",
      "metadata": {
        "id": "TK7v4CEcfxqf",
        "colab": {
          "base_uri": "https://localhost:8080/"
        },
        "outputId": "21f989a5-0e30-4a6b-8803-e2fe9e17d0cf"
      },
      "source": [
        "reduce_output = list(MapReduce(RECORDREADER, MAP, REDUCE))\n",
        "max(i for ((i,k), vw) in reduce_output)"
      ],
      "execution_count": 35,
      "outputs": [
        {
          "output_type": "execute_result",
          "data": {
            "text/plain": [
              "1"
            ]
          },
          "metadata": {},
          "execution_count": 35
        }
      ]
    },
    {
      "cell_type": "markdown",
      "metadata": {
        "id": "i4yyg3kOZqJJ"
      },
      "source": [
        "Реализуйте перемножение матриц  с использованием модельного кода MapReduce для одной машины в случае, когда обе матрицы генерируются в RECORDREADER. Например, сначала одна, а потом другая."
      ]
    },
    {
      "cell_type": "code",
      "metadata": {
        "id": "3B7rIAJCaHZq",
        "colab": {
          "base_uri": "https://localhost:8080/"
        },
        "outputId": "52d2c7a4-3a93-44db-fb9f-4d45539eadd4"
      },
      "source": [
        "import numpy as np\n",
        "\n",
        "I = 2\n",
        "J = 3\n",
        "K = 4 * 10\n",
        "\n",
        "small_mat = np.random.rand(I, J)\n",
        "big_mat = np.random.rand(J, K)\n",
        "reference_solution = np.matmul(small_mat, big_mat)\n",
        "\n",
        "def RECORDREADER():\n",
        "  for i in range(small_mat.shape[0]):\n",
        "    for j in range(small_mat.shape[1]):\n",
        "      yield ((0, i, j), small_mat[i, j])\n",
        "\n",
        "  for j in range(big_mat.shape[0]):\n",
        "    for k in range(big_mat.shape[1]):\n",
        "      yield ((1, j, k), big_mat[j, k])\n",
        "\n",
        "def MAP_JOIN(k1, v1):\n",
        "  (mat_num, i, j) = k1\n",
        "  if mat_num == 0:\n",
        "    yield (j, (mat_num, i, v1))\n",
        "  else:\n",
        "    yield (i, (mat_num, j, v1))\n",
        "\n",
        "def REDUCE_JOIN(key, values):\n",
        "  from_first_mat = [v for v in values if v[0] == 0]\n",
        "  from_second_mat = [v for v in values if v[0] == 1]\n",
        "  for f in from_first_mat:\n",
        "    for s in from_second_mat:\n",
        "      yield ((f[1], s[1]), f[2] * s[2])\n",
        "\n",
        "def MAP_MUL(k1, v1):\n",
        "  (i, k) = k1\n",
        "  yield ((i, k), v1)\n",
        "\n",
        "def REDUCE_MUL(key, values):\n",
        "  res_el_value = sum(values)\n",
        "  yield (key, res_el_value)\n",
        "\n",
        "def GET_JOINED():\n",
        "  for j in joined:\n",
        "    yield j\n",
        "\n",
        "joined = MapReduce(RECORDREADER, MAP_JOIN, REDUCE_JOIN)\n",
        "solution = MapReduce(GET_JOINED, MAP_MUL, REDUCE_MUL)\n",
        "np.allclose(reference_solution, asmatrix(solution))"
      ],
      "execution_count": 36,
      "outputs": [
        {
          "output_type": "execute_result",
          "data": {
            "text/plain": [
              "True"
            ]
          },
          "metadata": {},
          "execution_count": 36
        }
      ]
    },
    {
      "cell_type": "markdown",
      "metadata": {
        "id": "mXyzQi1DaIwo"
      },
      "source": [
        "Реализуйте перемножение матриц с использованием модельного кода MapReduce Distributed, когда каждая матрица генерируется в своём RECORDREADER."
      ]
    },
    {
      "cell_type": "code",
      "metadata": {
        "id": "TDM_s78Rb5eR",
        "colab": {
          "base_uri": "https://localhost:8080/"
        },
        "outputId": "20cddfaf-0ad4-4902-8528-92c5d85f6edc"
      },
      "source": [
        "import numpy as np\n",
        "\n",
        "I = 2\n",
        "J = 3\n",
        "K = 4 * 10\n",
        "\n",
        "small_mat = np.random.rand(I, J)\n",
        "big_mat = np.random.rand(J, K)\n",
        "reference_solution = np.matmul(small_mat, big_mat)\n",
        "\n",
        "def asmatrix(reduce_output):\n",
        "  reduce_output = list(reduce_output)\n",
        "  I = max(i for ((i,k), vw) in reduce_output) + 1\n",
        "  K = max(k for ((i,k), vw) in reduce_output) + 1\n",
        "  mat = np.empty(shape=(I, K))\n",
        "  for ((i,k), vw) in reduce_output:\n",
        "    mat[i, k] = vw\n",
        "  return mat\n",
        "\n",
        "def INPUTFORMAT():\n",
        "  first_mat = []\n",
        "  for i in range(small_mat.shape[0]):\n",
        "    for j in range(small_mat.shape[1]):\n",
        "      first_mat.append(((0, i, j), small_mat[i,j]))\n",
        "  yield first_mat\n",
        "\n",
        "  second_mat = []\n",
        "  for j in range(big_mat.shape[0]):\n",
        "    for k in range(big_mat.shape[1]):\n",
        "      second_mat.append(((1, j, k), big_mat[j,k]))\n",
        "  yield second_mat\n",
        "\n",
        "def MAP_JOIN(k1, v1):\n",
        "  (mat_num, i, j) = k1\n",
        "  w = v1\n",
        "  if mat_num == 0:\n",
        "    yield (j, (mat_num, i, w))\n",
        "  else:\n",
        "    yield (i, (mat_num, j, w))\n",
        "\n",
        "def REDUCE_JOIN(key, values):\n",
        "  from_first_mat = [v for v in values if v[0] == 0]\n",
        "  from_second_mat = [v for v in values if v[0] == 1]\n",
        "  for f in from_first_mat:\n",
        "    for s in from_second_mat:\n",
        "      yield ((f[1], s[1]), f[2] * s[2])\n",
        "\n",
        "def GET_JOINED():\n",
        "  for j in joined:\n",
        "    yield j[1]\n",
        "\n",
        "def MAP_MUL(k1, v1):\n",
        "  yield (k1, v1)\n",
        "\n",
        "def REDUCE_MUL(key, values):\n",
        "  res_val = 0\n",
        "  for v in values:\n",
        "    res_val += v\n",
        "  yield (key, res_val)\n",
        "\n",
        "maps = 4\n",
        "reducers = 2\n",
        "\n",
        "partitioned_output = MapReduceDistributed(INPUTFORMAT, MAP_JOIN, REDUCE_JOIN, COMBINER=None)\n",
        "joined = [(partition_id, list(partition)) for (partition_id, partition) in partitioned_output]\n",
        "print(joined)\n",
        "\n",
        "mul_output = MapReduceDistributed(GET_JOINED, MAP_MUL, REDUCE_MUL, COMBINER=None)\n",
        "pre_result = [(partition_id, list(partition)) for (partition_id, partition) in mul_output]\n",
        "print(pre_result)\n",
        "\n",
        "solution = []\n",
        "for p in pre_result:\n",
        "  for v in p[1]:\n",
        "    solution.append(v)\n",
        "\n",
        "print(solution)\n",
        "\n",
        "np.allclose(reference_solution, asmatrix(solution))"
      ],
      "execution_count": 37,
      "outputs": [
        {
          "output_type": "stream",
          "name": "stdout",
          "text": [
            "126 key-value pairs were sent over a network.\n",
            "[(0, [((0, 0), np.float64(0.05211737733686963)), ((0, 1), np.float64(0.10559579641544001)), ((0, 2), np.float64(0.03428671585794558)), ((0, 3), np.float64(0.08482528303143635)), ((0, 4), np.float64(0.12105060011032226)), ((0, 5), np.float64(0.057983776945162456)), ((0, 6), np.float64(0.0018205144563275923)), ((0, 7), np.float64(0.07503209573772306)), ((0, 8), np.float64(0.09275020679938337)), ((0, 9), np.float64(0.11781690982034672)), ((0, 10), np.float64(0.10312410621621473)), ((0, 11), np.float64(0.0824881451896362)), ((0, 12), np.float64(0.00896347173295578)), ((0, 13), np.float64(0.04911253601344081)), ((0, 14), np.float64(0.03594843476228986)), ((0, 15), np.float64(0.09905937976253398)), ((0, 16), np.float64(0.1171145773904806)), ((0, 17), np.float64(0.09114861611339006)), ((0, 18), np.float64(0.1136296214251542)), ((0, 19), np.float64(0.11980433565417467)), ((0, 20), np.float64(0.007666601843827331)), ((0, 21), np.float64(0.08672952008689237)), ((0, 22), np.float64(0.06199529370233954)), ((0, 23), np.float64(0.02844848128114706)), ((0, 24), np.float64(0.05336846081426434)), ((0, 25), np.float64(0.08401270958878831)), ((0, 26), np.float64(0.07106464609646544)), ((0, 27), np.float64(0.050916488346591224)), ((0, 28), np.float64(0.02792355408539057)), ((0, 29), np.float64(0.11717409168379847)), ((0, 30), np.float64(0.030796520672293826)), ((0, 31), np.float64(0.07941058578951996)), ((0, 32), np.float64(0.04724860334410092)), ((0, 33), np.float64(0.10121162984657973)), ((0, 34), np.float64(0.038887760693560036)), ((0, 35), np.float64(0.1000813160024136)), ((0, 36), np.float64(0.029174273285087902)), ((0, 37), np.float64(0.014629350333055204)), ((0, 38), np.float64(0.07646313463729573)), ((0, 39), np.float64(0.026423287236525785)), ((1, 0), np.float64(0.3451812498424972)), ((1, 1), np.float64(0.6993768843968613)), ((1, 2), np.float64(0.2270860898533289)), ((1, 3), np.float64(0.561810641885869)), ((1, 4), np.float64(0.801736379982913)), ((1, 5), np.float64(0.38403529915079804)), ((1, 6), np.float64(0.012057541793204079)), ((1, 7), np.float64(0.49694888554430067)), ((1, 8), np.float64(0.6142986071463782)), ((1, 9), np.float64(0.7803191615246147)), ((1, 10), np.float64(0.6830065074556475)), ((1, 11), np.float64(0.546331425499513)), ((1, 12), np.float64(0.05936642505456146)), ((1, 13), np.float64(0.3252797326019936)), ((1, 14), np.float64(0.23809190475803793)), ((1, 15), np.float64(0.6560852111578614)), ((1, 16), np.float64(0.7756675079239528)), ((1, 17), np.float64(0.6036910304996507)), ((1, 18), np.float64(0.7525861190048211)), ((1, 19), np.float64(0.7934821825426482)), ((1, 20), np.float64(0.05077706019993797)), ((1, 21), np.float64(0.5744226910791753)), ((1, 22), np.float64(0.4106041796041689)), ((1, 23), np.float64(0.18841858179613935)), ((1, 24), np.float64(0.3534673643872308)), ((1, 25), np.float64(0.5564288454322772)), ((1, 26), np.float64(0.4706718682453575)), ((1, 27), np.float64(0.3372275809556873)), ((1, 28), np.float64(0.1849419098151922)), ((1, 29), np.float64(0.7760616800638548)), ((1, 30), np.float64(0.20397000078786365)), ((1, 31), np.float64(0.5259482854706088)), ((1, 32), np.float64(0.31293462543617606)), ((1, 33), np.float64(0.6703398880419756)), ((1, 34), np.float64(0.2575595036760007)), ((1, 35), np.float64(0.662853648991195)), ((1, 36), np.float64(0.19322561169379993)), ((1, 37), np.float64(0.09689239348533683)), ((1, 38), np.float64(0.5064268719889155)), ((1, 39), np.float64(0.17500541622225663)), ((0, 0), np.float64(0.024201354886177855)), ((0, 1), np.float64(0.10097395871525079)), ((0, 2), np.float64(0.005322756300914575)), ((0, 3), np.float64(0.1958168704855647)), ((0, 4), np.float64(0.043198577620397076)), ((0, 5), np.float64(0.002011989479746234)), ((0, 6), np.float64(0.09352506665439266)), ((0, 7), np.float64(0.04595758451233611)), ((0, 8), np.float64(0.06567416039446564)), ((0, 9), np.float64(0.18887107695580374)), ((0, 10), np.float64(0.14656481169475616)), ((0, 11), np.float64(0.18100262287335886)), ((0, 12), np.float64(0.10379481444768372)), ((0, 13), np.float64(0.18010437664565265)), ((0, 14), np.float64(0.11547454154036056)), ((0, 15), np.float64(0.034664377629602464)), ((0, 16), np.float64(0.1886665298348672)), ((0, 17), np.float64(0.20764865294324727)), ((0, 18), np.float64(0.20241716405800228)), ((0, 19), np.float64(0.044795302774664265)), ((0, 20), np.float64(0.0763830389138966)), ((0, 21), np.float64(0.12545287831489244)), ((0, 22), np.float64(0.13165252928466958)), ((0, 23), np.float64(0.061674109088387996)), ((0, 24), np.float64(0.06275822848020639)), ((0, 25), np.float64(1.7871974762311174e-05)), ((0, 26), np.float64(0.14658365892685962)), ((0, 27), np.float64(0.1700896164948798)), ((0, 28), np.float64(0.12595887490076763)), ((0, 29), np.float64(0.15378918658694352)), ((0, 30), np.float64(0.013144642968755444)), ((0, 31), np.float64(0.09297653644175695)), ((0, 32), np.float64(0.06169657680935843)), ((0, 33), np.float64(0.006078832099381557)), ((0, 34), np.float64(0.21534586212889653)), ((0, 35), np.float64(0.17815222709981288)), ((0, 36), np.float64(0.04453842252049125)), ((0, 37), np.float64(0.14881268119202182)), ((0, 38), np.float64(0.0998171996627774)), ((0, 39), np.float64(0.1925094982852108)), ((1, 0), np.float64(0.0020284233693919147)), ((1, 1), np.float64(0.008463077316179806)), ((1, 2), np.float64(0.00044612391831498556)), ((1, 3), np.float64(0.016412284274256162)), ((1, 4), np.float64(0.003620665238860216)), ((1, 5), np.float64(0.00016863380165623793)), ((1, 6), np.float64(0.007838752487946653)), ((1, 7), np.float64(0.003851909897774696)), ((1, 8), np.float64(0.005504443959268175)), ((1, 9), np.float64(0.01583012637520461)), ((1, 10), np.float64(0.012284249810408899)), ((1, 11), np.float64(0.015170636184804817)), ((1, 12), np.float64(0.00869950580195099)), ((1, 13), np.float64(0.015095350166798112)), ((1, 14), np.float64(0.009678435762456488)), ((1, 15), np.float64(0.0029053759180016187)), ((1, 16), np.float64(0.015812982369747028)), ((1, 17), np.float64(0.017403958672305327)), ((1, 18), np.float64(0.016965484282691474)), ((1, 19), np.float64(0.0037544938874067182)), ((1, 20), np.float64(0.006402002775745803)), ((1, 21), np.float64(0.01051476462075041)), ((1, 22), np.float64(0.011034384987804798)), ((1, 23), np.float64(0.005169181839185444)), ((1, 24), np.float64(0.005260046715136308)), ((1, 25), np.float64(1.4979298239934118e-06)), ((1, 26), np.float64(0.012285829480895398)), ((1, 27), np.float64(0.014255968503076278)), ((1, 28), np.float64(0.010557174448813713)), ((1, 29), np.float64(0.012889756854517839)), ((1, 30), np.float64(0.0011017110862402446)), ((1, 31), np.float64(0.007792777727138395)), ((1, 32), np.float64(0.005171064958973065)), ((1, 33), np.float64(0.000509493999281733)), ((1, 34), np.float64(0.018049096065013294)), ((1, 35), np.float64(0.014931731816587862)), ((1, 36), np.float64(0.0037329636089098945)), ((1, 37), np.float64(0.012472653767172536)), ((1, 38), np.float64(0.008366124186661722)), ((1, 39), np.float64(0.016135078675890816))]), (1, [((0, 0), np.float64(0.031911893211812016)), ((0, 1), np.float64(0.028810754804391672)), ((0, 2), np.float64(0.02726110051346371)), ((0, 3), np.float64(0.006592285169006504)), ((0, 4), np.float64(0.03589618962613037)), ((0, 5), np.float64(0.03354962120447439)), ((0, 6), np.float64(0.027876157965661404)), ((0, 7), np.float64(0.03493320957892755)), ((0, 8), np.float64(0.03553202405663133)), ((0, 9), np.float64(0.012061144166840313)), ((0, 10), np.float64(0.0351356443654891)), ((0, 11), np.float64(0.03404029066487391)), ((0, 12), np.float64(0.017047375467803407)), ((0, 13), np.float64(0.029118469899302838)), ((0, 14), np.float64(0.0010903319063149226)), ((0, 15), np.float64(4.073442288766261e-05)), ((0, 16), np.float64(0.029570022893957878)), ((0, 17), np.float64(0.009526353756926436)), ((0, 18), np.float64(0.02504585761345534)), ((0, 19), np.float64(0.009185420298341058)), ((0, 20), np.float64(0.012446970150300388)), ((0, 21), np.float64(0.026034334150497846)), ((0, 22), np.float64(0.03385705592564892)), ((0, 23), np.float64(0.01718254699270544)), ((0, 24), np.float64(0.010536454203461026)), ((0, 25), np.float64(0.01487751580958811)), ((0, 26), np.float64(0.001721322744925991)), ((0, 27), np.float64(0.02249388965079181)), ((0, 28), np.float64(0.003441107864473562)), ((0, 29), np.float64(0.015758472521428278)), ((0, 30), np.float64(0.03554586841367724)), ((0, 31), np.float64(0.024372860777870074)), ((0, 32), np.float64(0.0004859224213798737)), ((0, 33), np.float64(0.031058715371427563)), ((0, 34), np.float64(0.02647867177197411)), ((0, 35), np.float64(0.03260592998917499)), ((0, 36), np.float64(0.030229564987099843)), ((0, 37), np.float64(0.007119893423429052)), ((0, 38), np.float64(0.019028632905183324)), ((0, 39), np.float64(0.027759952320580622)), ((1, 0), np.float64(0.6891049088411219)), ((1, 1), np.float64(0.622138975940654)), ((1, 2), np.float64(0.5886757661023264)), ((1, 3), np.float64(0.1423536999290729)), ((1, 4), np.float64(0.7751417415404926)), ((1, 5), np.float64(0.7244699807783902)), ((1, 6), np.float64(0.6019573068343524)), ((1, 7), np.float64(0.7543471658868648)), ((1, 8), np.float64(0.7672779560888721)), ((1, 9), np.float64(0.2604481531836445)), ((1, 10), np.float64(0.7587185394125235)), ((1, 11), np.float64(0.735065489215808)), ((1, 12), np.float64(0.3681207517131198)), ((1, 13), np.float64(0.6287837707518031)), ((1, 14), np.float64(0.023544609651350988)), ((1, 15), np.float64(0.0008796184727864527)), ((1, 16), np.float64(0.6385345988569662)), ((1, 17), np.float64(0.20571192983389644)), ((1, 18), np.float64(0.5408398465428385)), ((1, 19), np.float64(0.1983498182117504)), ((1, 20), np.float64(0.2687796732660187)), ((1, 21), np.float64(0.5621849929880557)), ((1, 22), np.float64(0.7311087212035792)), ((1, 23), np.float64(0.3710396434481627)), ((1, 24), np.float64(0.22752402263295204)), ((1, 25), np.float64(0.3212648371471041)), ((1, 26), np.float64(0.03717021567336279)), ((1, 27), np.float64(0.4857326913952464)), ((1, 28), np.float64(0.0743072278890305)), ((1, 29), np.float64(0.34028820221592704)), ((1, 30), np.float64(0.7675769109122906)), ((1, 31), np.float64(0.5263071636976637)), ((1, 32), np.float64(0.010493000953164746)), ((1, 33), np.float64(0.6706814002758019)), ((1, 34), np.float64(0.5717800124408265)), ((1, 35), np.float64(0.7040919278507014)), ((1, 36), np.float64(0.6527767402101858)), ((1, 37), np.float64(0.1537468640906118)), ((1, 38), np.float64(0.41090399295532615)), ((1, 39), np.float64(0.5994479640031795))])]\n",
            "240 key-value pairs were sent over a network.\n",
            "[(0, [((0, 1), np.float64(0.23538050993508247)), ((0, 2), np.float64(0.06687057267232387)), ((0, 4), np.float64(0.2001453673568497)), ((0, 5), np.float64(0.09354538762938308)), ((0, 8), np.float64(0.19395639125048034)), ((0, 9), np.float64(0.31874913094299073)), ((0, 11), np.float64(0.29753105872786895)), ((0, 12), np.float64(0.1298056616484429)), ((0, 15), np.float64(0.1337644918150241)), ((0, 16), np.float64(0.3353511301193057)), ((0, 18), np.float64(0.3410926430966118)), ((0, 19), np.float64(0.17378505872717998)), ((0, 22), np.float64(0.22750487891265803)), ((0, 23), np.float64(0.1073051373622405)), ((0, 25), np.float64(0.09890809737313874)), ((0, 26), np.float64(0.21936962776825103)), ((0, 29), np.float64(0.2867217507921702)), ((0, 32), np.float64(0.10943110257483923)), ((0, 33), np.float64(0.13834917731738886)), ((0, 36), np.float64(0.103942260792679)), ((0, 39), np.float64(0.2466927378423172)), ((1, 0), np.float64(1.036314582053011)), ((1, 1), np.float64(1.3299789376536952)), ((1, 3), np.float64(0.720576626089198)), ((1, 4), np.float64(1.580498786762266)), ((1, 7), np.float64(1.25514796132894)), ((1, 10), np.float64(1.45400929667858)), ((1, 11), np.float64(1.296567550900126)), ((1, 14), np.float64(0.2713149501718454)), ((1, 17), np.float64(0.8268069190058525)), ((1, 18), np.float64(1.310391449830351)), ((1, 21), np.float64(1.1471224486879814)), ((1, 24), np.float64(0.5862514337353192)), ((1, 25), np.float64(0.8776951805092053)), ((1, 27), np.float64(0.8372162408540099)), ((1, 28), np.float64(0.2698063121530364)), ((1, 31), np.float64(1.060048226895411)), ((1, 32), np.float64(0.3285986913483139)), ((1, 34), np.float64(0.8473886121818406)), ((1, 35), np.float64(1.3818773086584843)), ((1, 38), np.float64(0.9256969891309033)), ((1, 39), np.float64(0.7905884589013269))]), (1, [((0, 0), np.float64(0.1082306254348595)), ((0, 3), np.float64(0.28723443868600756)), ((0, 6), np.float64(0.12322173907638165)), ((0, 7), np.float64(0.15592288982898672)), ((0, 10), np.float64(0.28482456227645997)), ((0, 13), np.float64(0.25833538255839633)), ((0, 14), np.float64(0.15251330820896533)), ((0, 17), np.float64(0.3083236228135638)), ((0, 20), np.float64(0.09649661090802432)), ((0, 21), np.float64(0.23821673255228268)), ((0, 24), np.float64(0.12666314349793176)), ((0, 27), np.float64(0.24349999449226284)), ((0, 28), np.float64(0.15732353685063177)), ((0, 30), np.float64(0.07948703205472651)), ((0, 31), np.float64(0.19675998300914696)), ((0, 34), np.float64(0.28071229459443064)), ((0, 35), np.float64(0.3108394730914015)), ((0, 37), np.float64(0.17056192494850608)), ((0, 38), np.float64(0.19530896720525645)), ((1, 2), np.float64(0.8162079798739703)), ((1, 5), np.float64(1.1086739137308443)), ((1, 6), np.float64(0.6218536011155031)), ((1, 8), np.float64(1.3870810071945185)), ((1, 9), np.float64(1.0565974410834638)), ((1, 12), np.float64(0.4361866825696323)), ((1, 13), np.float64(0.9691588535205948)), ((1, 15), np.float64(0.6598702055486496)), ((1, 16), np.float64(1.430015089150666)), ((1, 19), np.float64(0.9955864946418054)), ((1, 20), np.float64(0.32595873624170246)), ((1, 22), np.float64(1.1527472857955527)), ((1, 23), np.float64(0.5646274070834875)), ((1, 26), np.float64(0.5201279133996157)), ((1, 29), np.float64(1.1292396391342998)), ((1, 30), np.float64(0.9726486227863945)), ((1, 33), np.float64(1.3415307823170592)), ((1, 36), np.float64(0.8497353155128957)), ((1, 37), np.float64(0.2631119113431212))])]\n",
            "[((0, 1), np.float64(0.23538050993508247)), ((0, 2), np.float64(0.06687057267232387)), ((0, 4), np.float64(0.2001453673568497)), ((0, 5), np.float64(0.09354538762938308)), ((0, 8), np.float64(0.19395639125048034)), ((0, 9), np.float64(0.31874913094299073)), ((0, 11), np.float64(0.29753105872786895)), ((0, 12), np.float64(0.1298056616484429)), ((0, 15), np.float64(0.1337644918150241)), ((0, 16), np.float64(0.3353511301193057)), ((0, 18), np.float64(0.3410926430966118)), ((0, 19), np.float64(0.17378505872717998)), ((0, 22), np.float64(0.22750487891265803)), ((0, 23), np.float64(0.1073051373622405)), ((0, 25), np.float64(0.09890809737313874)), ((0, 26), np.float64(0.21936962776825103)), ((0, 29), np.float64(0.2867217507921702)), ((0, 32), np.float64(0.10943110257483923)), ((0, 33), np.float64(0.13834917731738886)), ((0, 36), np.float64(0.103942260792679)), ((0, 39), np.float64(0.2466927378423172)), ((1, 0), np.float64(1.036314582053011)), ((1, 1), np.float64(1.3299789376536952)), ((1, 3), np.float64(0.720576626089198)), ((1, 4), np.float64(1.580498786762266)), ((1, 7), np.float64(1.25514796132894)), ((1, 10), np.float64(1.45400929667858)), ((1, 11), np.float64(1.296567550900126)), ((1, 14), np.float64(0.2713149501718454)), ((1, 17), np.float64(0.8268069190058525)), ((1, 18), np.float64(1.310391449830351)), ((1, 21), np.float64(1.1471224486879814)), ((1, 24), np.float64(0.5862514337353192)), ((1, 25), np.float64(0.8776951805092053)), ((1, 27), np.float64(0.8372162408540099)), ((1, 28), np.float64(0.2698063121530364)), ((1, 31), np.float64(1.060048226895411)), ((1, 32), np.float64(0.3285986913483139)), ((1, 34), np.float64(0.8473886121818406)), ((1, 35), np.float64(1.3818773086584843)), ((1, 38), np.float64(0.9256969891309033)), ((1, 39), np.float64(0.7905884589013269)), ((0, 0), np.float64(0.1082306254348595)), ((0, 3), np.float64(0.28723443868600756)), ((0, 6), np.float64(0.12322173907638165)), ((0, 7), np.float64(0.15592288982898672)), ((0, 10), np.float64(0.28482456227645997)), ((0, 13), np.float64(0.25833538255839633)), ((0, 14), np.float64(0.15251330820896533)), ((0, 17), np.float64(0.3083236228135638)), ((0, 20), np.float64(0.09649661090802432)), ((0, 21), np.float64(0.23821673255228268)), ((0, 24), np.float64(0.12666314349793176)), ((0, 27), np.float64(0.24349999449226284)), ((0, 28), np.float64(0.15732353685063177)), ((0, 30), np.float64(0.07948703205472651)), ((0, 31), np.float64(0.19675998300914696)), ((0, 34), np.float64(0.28071229459443064)), ((0, 35), np.float64(0.3108394730914015)), ((0, 37), np.float64(0.17056192494850608)), ((0, 38), np.float64(0.19530896720525645)), ((1, 2), np.float64(0.8162079798739703)), ((1, 5), np.float64(1.1086739137308443)), ((1, 6), np.float64(0.6218536011155031)), ((1, 8), np.float64(1.3870810071945185)), ((1, 9), np.float64(1.0565974410834638)), ((1, 12), np.float64(0.4361866825696323)), ((1, 13), np.float64(0.9691588535205948)), ((1, 15), np.float64(0.6598702055486496)), ((1, 16), np.float64(1.430015089150666)), ((1, 19), np.float64(0.9955864946418054)), ((1, 20), np.float64(0.32595873624170246)), ((1, 22), np.float64(1.1527472857955527)), ((1, 23), np.float64(0.5646274070834875)), ((1, 26), np.float64(0.5201279133996157)), ((1, 29), np.float64(1.1292396391342998)), ((1, 30), np.float64(0.9726486227863945)), ((1, 33), np.float64(1.3415307823170592)), ((1, 36), np.float64(0.8497353155128957)), ((1, 37), np.float64(0.2631119113431212))]\n"
          ]
        },
        {
          "output_type": "execute_result",
          "data": {
            "text/plain": [
              "True"
            ]
          },
          "metadata": {},
          "execution_count": 37
        }
      ]
    },
    {
      "cell_type": "markdown",
      "metadata": {
        "id": "ZuSA2P9Db6UM"
      },
      "source": [
        "Обобщите предыдущее решение на случай, когда каждая матрица генерируется несколькими RECORDREADER-ами, и проверьте его работоспособность. Будет ли работать решение, если RECORDREADER-ы будут генерировать случайное подмножество элементов матрицы?"
      ]
    },
    {
      "cell_type": "code",
      "metadata": {
        "id": "ehN0FqRDcwU5",
        "colab": {
          "base_uri": "https://localhost:8080/"
        },
        "outputId": "a504b9a0-d3fb-409f-d6c9-5167dbeab087"
      },
      "source": [
        "import numpy as np\n",
        "\n",
        "I = 2\n",
        "J = 3\n",
        "K = 4 * 10\n",
        "\n",
        "small_mat = np.random.rand(I, J)\n",
        "big_mat = np.random.rand(J, K)\n",
        "reference_solution = np.matmul(small_mat, big_mat)\n",
        "\n",
        "def groupbykey_distributed(map_partitions, PARTITIONER):\n",
        "  global reducers\n",
        "  partitions = [dict() for _ in range(reducers)]\n",
        "  for map_partition in map_partitions:\n",
        "    for (k2, v2) in map_partition:\n",
        "      p = partitions[PARTITIONER(k2)]\n",
        "      p[k2] = p.get(k2, []) + [v2]\n",
        "  return [(partition_id, sorted(partition.items(), key=lambda x: x[0])) for (partition_id, partition) in enumerate(partitions)]\n",
        "\n",
        "def PARTITIONER(obj):\n",
        "  global reducers\n",
        "  return hash(obj) % reducers\n",
        "\n",
        "def MapReduceDistributed(INPUTFORMAT, MAP, REDUCE, PARTITIONER=PARTITIONER, COMBINER=None):\n",
        "  map_partitions = map(lambda record_reader: flatten(map(lambda k1v1: MAP(*k1v1), record_reader)), INPUTFORMAT())\n",
        "  if COMBINER != None:\n",
        "    map_partitions = map(lambda map_partition: flatten(map(lambda k2v2: COMBINER(*k2v2), groupbykey(map_partition))), map_partitions)\n",
        "  reduce_partitions = groupbykey_distributed(map_partitions, PARTITIONER)\n",
        "  reduce_outputs = map(lambda reduce_partition: (reduce_partition[0], flatten(map(lambda reduce_input_group: REDUCE(*reduce_input_group), reduce_partition[1]))), reduce_partitions)\n",
        "  print(\"{} key-value pairs were sent over a network.\".format(sum([len(vs) for (k,vs) in flatten([partition for (partition_id, partition) in reduce_partitions])])))\n",
        "  return reduce_outputs\n",
        "\n",
        "def asmatrix(reduce_output):\n",
        "  reduce_output = list(reduce_output)\n",
        "  I = max(i for ((i,k), vw) in reduce_output) + 1\n",
        "  K = max(k for ((i,k), vw) in reduce_output) + 1\n",
        "  mat = np.empty(shape=(I, K))\n",
        "  for ((i,k), vw) in reduce_output:\n",
        "    mat[i, k] = vw\n",
        "  return mat\n",
        "\n",
        "def INPUTFORMAT():\n",
        "  first_mat = []\n",
        "  for i in range(small_mat.shape[0]):\n",
        "    for j in range(small_mat.shape[1]):\n",
        "      first_mat.append(((0, i, j), small_mat[i,j]))\n",
        "  global maps\n",
        "  split_size = int(np.ceil(len(first_mat)/maps))\n",
        "  for i in range(0, len(first_mat), split_size):\n",
        "    yield first_mat[i:i+split_size]\n",
        "  second_mat = []\n",
        "  for j in range(big_mat.shape[0]):\n",
        "    for k in range(big_mat.shape[1]):\n",
        "      second_mat.append(((1, j, k), big_mat[j,k]))\n",
        "  split_size = int(np.ceil(len(second_mat)/maps))\n",
        "  for i in range(0, len(second_mat), split_size):\n",
        "    yield second_mat[i:i+split_size]\n",
        "\n",
        "def MAP_JOIN(k1, v1):\n",
        "  (mat_num, i, j) = k1\n",
        "  w = v1\n",
        "  if mat_num == 0:\n",
        "    yield (j, (mat_num, i, w))\n",
        "  else:\n",
        "    yield (i, (mat_num, j, w))\n",
        "\n",
        "def REDUCE_JOIN(key, values):\n",
        "  from_first_mat = [v for v in values if v[0] == 0]\n",
        "  from_second_mat = [v for v in values if v[0] == 1]\n",
        "  for f in from_first_mat:\n",
        "    for s in from_second_mat:\n",
        "      yield ((f[1], s[1]), f[2] * s[2])\n",
        "\n",
        "def GET_JOINED():\n",
        "  for j in joined:\n",
        "    yield j[1]\n",
        "\n",
        "def MAP_MUL(k1, v1):\n",
        "  yield (k1, v1)\n",
        "\n",
        "def REDUCE_MUL(key, values):\n",
        "  res_val = 0\n",
        "  for v in values:\n",
        "    res_val += v\n",
        "  yield (key, res_val)\n",
        "\n",
        "maps = 3\n",
        "reducers = 2\n",
        "\n",
        "partitioned_output = MapReduceDistributed(INPUTFORMAT, MAP_JOIN, REDUCE_JOIN, COMBINER=None)\n",
        "joined = [(partition_id, list(partition)) for (partition_id, partition) in partitioned_output]\n",
        "print(joined)\n",
        "\n",
        "mul_output = MapReduceDistributed(GET_JOINED, MAP_MUL, REDUCE_MUL, COMBINER=None)\n",
        "pre_result = [(partition_id, list(partition)) for (partition_id, partition) in mul_output]\n",
        "print(pre_result)\n",
        "\n",
        "solution = []\n",
        "for p in pre_result:\n",
        "  for v in p[1]:\n",
        "    solution.append(v)\n",
        "\n",
        "print(solution)\n",
        "\n",
        "np.allclose(reference_solution, asmatrix(solution))"
      ],
      "execution_count": 38,
      "outputs": [
        {
          "output_type": "stream",
          "name": "stdout",
          "text": [
            "126 key-value pairs were sent over a network.\n",
            "[(0, [((0, 0), np.float64(0.3130948031353835)), ((0, 1), np.float64(0.5857384131560364)), ((0, 2), np.float64(0.3834015719096146)), ((0, 3), np.float64(0.17630443461069834)), ((0, 4), np.float64(0.40402716652324827)), ((0, 5), np.float64(0.46092245790160624)), ((0, 6), np.float64(0.0995040113513068)), ((0, 7), np.float64(0.6755809431241886)), ((0, 8), np.float64(0.6446517705767176)), ((0, 9), np.float64(0.629697264337617)), ((0, 10), np.float64(0.10465479043087837)), ((0, 11), np.float64(0.08884076945691988)), ((0, 12), np.float64(0.6190304698752774)), ((0, 13), np.float64(0.037778956935190074)), ((0, 14), np.float64(0.47314966472151504)), ((0, 15), np.float64(0.28732532651876264)), ((0, 16), np.float64(0.20773097679865649)), ((0, 17), np.float64(0.3167099450876009)), ((0, 18), np.float64(0.09691216876735831)), ((0, 19), np.float64(0.049714461331308434)), ((0, 20), np.float64(0.3627368467043575)), ((0, 21), np.float64(0.4718715887441142)), ((0, 22), np.float64(0.580754530559842)), ((0, 23), np.float64(0.29003226665590454)), ((0, 24), np.float64(0.6680952198537189)), ((0, 25), np.float64(0.4967941029768353)), ((0, 26), np.float64(0.1681524977557699)), ((0, 27), np.float64(0.7399822004529528)), ((0, 28), np.float64(0.2632024641200601)), ((0, 29), np.float64(0.5869878244361488)), ((0, 30), np.float64(0.47526751601277056)), ((0, 31), np.float64(0.05545965933322637)), ((0, 32), np.float64(0.5591317305445463)), ((0, 33), np.float64(0.677388870281707)), ((0, 34), np.float64(0.5498057070378195)), ((0, 35), np.float64(0.6492842128624962)), ((0, 36), np.float64(0.5194390048284988)), ((0, 37), np.float64(0.09257998383554514)), ((0, 38), np.float64(0.17936228651752176)), ((0, 39), np.float64(0.15644268930836752)), ((1, 0), np.float64(0.3856740158509185)), ((1, 1), np.float64(0.7215197562456862)), ((1, 2), np.float64(0.4722787553199886)), ((1, 3), np.float64(0.21717396337374503)), ((1, 4), np.float64(0.4976856155562267)), ((1, 5), np.float64(0.5677699327954726)), ((1, 6), np.float64(0.12257026072240453)), ((1, 7), np.float64(0.8321888857873891)), ((1, 8), np.float64(0.7940899519696626)), ((1, 9), np.float64(0.7756688078990993)), ((1, 10), np.float64(0.1289150535215373)), ((1, 11), np.float64(0.10943514866620191)), ((1, 12), np.float64(0.7625293197461518)), ((1, 13), np.float64(0.04653658217876385)), ((1, 14), np.float64(0.5828315560151811)), ((1, 15), np.float64(0.35393085871901614)), ((1, 16), np.float64(0.2558855632104795)), ((1, 17), np.float64(0.39012719201551915)), ((1, 18), np.float64(0.11937759726138693)), ((1, 19), np.float64(0.061238882777687596)), ((1, 20), np.float64(0.4468236935413969)), ((1, 21), np.float64(0.5812572063618794)), ((1, 22), np.float64(0.7153805485802923)), ((1, 23), np.float64(0.3572653007567146)), ((1, 24), np.float64(0.8229678801163933)), ((1, 25), np.float64(0.6119570648487638)), ((1, 26), np.float64(0.20713230764417395)), ((1, 27), np.float64(0.911519143878875)), ((1, 28), np.float64(0.32421602116195897)), ((1, 29), np.float64(0.7230587963735483)), ((1, 30), np.float64(0.5854403511925331)), ((1, 31), np.float64(0.06831588809067662)), ((1, 32), np.float64(0.6887453185083501)), ((1, 33), np.float64(0.8344159126183155)), ((1, 34), np.float64(0.6772574084512669)), ((1, 35), np.float64(0.7997962511533679)), ((1, 36), np.float64(0.6398513324898161)), ((1, 37), np.float64(0.1140411587663067)), ((1, 38), np.float64(0.22094066283017785)), ((1, 39), np.float64(0.1927080220810505)), ((0, 0), np.float64(0.1426385462824854)), ((0, 1), np.float64(0.06425391745405126)), ((0, 2), np.float64(0.08645576537019799)), ((0, 3), np.float64(0.13538370260318097)), ((0, 4), np.float64(0.08793941929794784)), ((0, 5), np.float64(0.014101526593076884)), ((0, 6), np.float64(0.10780055393434954)), ((0, 7), np.float64(0.08569073114479629)), ((0, 8), np.float64(0.04127715750391327)), ((0, 9), np.float64(0.0815755409033671)), ((0, 10), np.float64(0.023137379800993594)), ((0, 11), np.float64(0.03041034477898037)), ((0, 12), np.float64(0.10310504523117853)), ((0, 13), np.float64(0.0348555366293217)), ((0, 14), np.float64(0.02625159664651901)), ((0, 15), np.float64(0.034014254884374075)), ((0, 16), np.float64(0.10971803167220832)), ((0, 17), np.float64(0.12268455056474233)), ((0, 18), np.float64(0.0854605348165983)), ((0, 19), np.float64(0.028344465495940392)), ((0, 20), np.float64(0.07323183744166159)), ((0, 21), np.float64(0.122897140117619)), ((0, 22), np.float64(0.11691738822728286)), ((0, 23), np.float64(0.1221158488350707)), ((0, 24), np.float64(0.08822146028793368)), ((0, 25), np.float64(0.04900194713079748)), ((0, 26), np.float64(0.02648815209185149)), ((0, 27), np.float64(0.0006561850579847114)), ((0, 28), np.float64(0.0068150408935671045)), ((0, 29), np.float64(0.04539547893755553)), ((0, 30), np.float64(0.14160193829646242)), ((0, 31), np.float64(0.09583074510865039)), ((0, 32), np.float64(0.047057148437156325)), ((0, 33), np.float64(0.10169200699611582)), ((0, 34), np.float64(0.10551540568687265)), ((0, 35), np.float64(0.055315485728418934)), ((0, 36), np.float64(0.11565459258726117)), ((0, 37), np.float64(0.04973192927187987)), ((0, 38), np.float64(0.07016588670565141)), ((0, 39), np.float64(0.011285278578188873)), ((1, 0), np.float64(0.17465298293272669)), ((1, 1), np.float64(0.07867535558192387)), ((1, 2), np.float64(0.10586028606694453)), ((1, 3), np.float64(0.16576982951926023)), ((1, 4), np.float64(0.10767693795295148)), ((1, 5), np.float64(0.017266536624037824)), ((1, 6), np.float64(0.13199579494555103)), ((1, 7), np.float64(0.10492354412029417)), ((1, 8), np.float64(0.050541588321891436)), ((1, 9), np.float64(0.09988472207861504)), ((1, 10), np.float64(0.0283304373523831)), ((1, 11), np.float64(0.03723577929028404)), ((1, 12), np.float64(0.1262464051573848)), ((1, 13), np.float64(0.04267866998571236)), ((1, 14), np.float64(0.0321436230286672)), ((1, 15), np.float64(0.0416485671834098)), ((1, 16), np.float64(0.13434364000813953)), ((1, 17), np.float64(0.15022042270017327)), ((1, 18), np.float64(0.10464168149320092)), ((1, 19), np.float64(0.03470622477248005)), ((1, 20), np.float64(0.08966832029752143)), ((1, 21), np.float64(0.15048072680812957)), ((1, 22), np.float64(0.1431588525177362)), ((1, 23), np.float64(0.14952407899733264)), ((1, 24), np.float64(0.10802228149082499)), ((1, 25), np.float64(0.06000016446435438)), ((1, 26), np.float64(0.032433272041736044)), ((1, 27), np.float64(0.0008034621826974298)), ((1, 28), np.float64(0.008344639313084214)), ((1, 29), np.float64(0.05558424433464221)), ((1, 30), np.float64(0.17338371398958805)), ((1, 31), np.float64(0.11733942840909864)), ((1, 32), np.float64(0.05761886640782893)), ((1, 33), np.float64(0.1245162182676296)), ((1, 34), np.float64(0.12919775775106837)), ((1, 35), np.float64(0.06773074205136732)), ((1, 36), np.float64(0.14161262934656443)), ((1, 37), np.float64(0.0608939870792818)), ((1, 38), np.float64(0.08591423379338325)), ((1, 39), np.float64(0.013818197242448392))]), (1, [((0, 0), np.float64(0.052521539205334505)), ((0, 1), np.float64(0.058972902505254964)), ((0, 2), np.float64(0.0003928092540906174)), ((0, 3), np.float64(0.031705744594890305)), ((0, 4), np.float64(0.043098817399094394)), ((0, 5), np.float64(0.009114554483363409)), ((0, 6), np.float64(0.07853689924452661)), ((0, 7), np.float64(0.003029689340176276)), ((0, 8), np.float64(0.07033002765789492)), ((0, 9), np.float64(0.05496200978156122)), ((0, 10), np.float64(0.06835491555345495)), ((0, 11), np.float64(0.0449732629172172)), ((0, 12), np.float64(0.041183915261106374)), ((0, 13), np.float64(0.02283983162738862)), ((0, 14), np.float64(0.013132044338841168)), ((0, 15), np.float64(0.046823914904773126)), ((0, 16), np.float64(0.08080034608442459)), ((0, 17), np.float64(0.00018932748105303992)), ((0, 18), np.float64(0.01290072488111024)), ((0, 19), np.float64(0.05821552172852211)), ((0, 20), np.float64(0.0041004048095019605)), ((0, 21), np.float64(0.014988549196368777)), ((0, 22), np.float64(0.06413230397499035)), ((0, 23), np.float64(0.034200145859745325)), ((0, 24), np.float64(0.013463852692962635)), ((0, 25), np.float64(0.06793888175677132)), ((0, 26), np.float64(0.007754660432255195)), ((0, 27), np.float64(0.05141420237462773)), ((0, 28), np.float64(0.0030951966190986167)), ((0, 29), np.float64(0.05824262136234755)), ((0, 30), np.float64(0.0737092998263827)), ((0, 31), np.float64(0.034250629968610904)), ((0, 32), np.float64(0.01907006374170002)), ((0, 33), np.float64(0.0033212044333383044)), ((0, 34), np.float64(0.03467601562725553)), ((0, 35), np.float64(0.031271775427846676)), ((0, 36), np.float64(0.002505235070004063)), ((0, 37), np.float64(0.040790489839682836)), ((0, 38), np.float64(0.004340229626028003)), ((0, 39), np.float64(0.022190792069821635)), ((1, 0), np.float64(0.6085396075705575)), ((1, 1), np.float64(0.6832881802557607)), ((1, 2), np.float64(0.004551275399600417)), ((1, 3), np.float64(0.3673578814603209)), ((1, 4), np.float64(0.4993634578046822)), ((1, 5), np.float64(0.10560557615803996)), ((1, 6), np.float64(0.9099659790857466)), ((1, 7), np.float64(0.035103425947279034)), ((1, 8), np.float64(0.8148772499610002)), ((1, 9), np.float64(0.6368160638438278)), ((1, 10), np.float64(0.7919926589316939)), ((1, 11), np.float64(0.5210816777439597)), ((1, 12), np.float64(0.4771764881686344)), ((1, 13), np.float64(0.264633184514459)), ((1, 14), np.float64(0.15215413008585055)), ((1, 15), np.float64(0.542524214487867)), ((1, 16), np.float64(0.9361913539043207)), ((1, 17), np.float64(0.002193638510324486)), ((1, 18), np.float64(0.14947395250231324)), ((1, 19), np.float64(0.6745128052833592)), ((1, 20), np.float64(0.0475092461380361)), ((1, 21), np.float64(0.17366448097324302)), ((1, 22), np.float64(0.7430674668721902)), ((1, 23), np.float64(0.39625920441858264)), ((1, 24), np.float64(0.15599861995916336)), ((1, 25), np.float64(0.7871722929028125)), ((1, 26), np.float64(0.08984919497195934)), ((1, 27), np.float64(0.5957094748173597)), ((1, 28), np.float64(0.035862424529795205)), ((1, 29), np.float64(0.6748267945681927)), ((1, 30), np.float64(0.8540311093185109)), ((1, 31), np.float64(0.39684413738632185)), ((1, 32), np.float64(0.22095485549937885)), ((1, 33), np.float64(0.038481058878030945)), ((1, 34), np.float64(0.40177285854899963)), ((1, 35), np.float64(0.36232970767474326)), ((1, 36), np.float64(0.02902684859276605)), ((1, 37), np.float64(0.4726180735603846)), ((1, 38), np.float64(0.05028797086588291)), ((1, 39), np.float64(0.2571131025892997))])]\n",
            "240 key-value pairs were sent over a network.\n",
            "[(0, [((0, 1), np.float64(0.7089652331153427)), ((0, 2), np.float64(0.47025014653390323)), ((0, 4), np.float64(0.5350654032202905)), ((0, 5), np.float64(0.48413853897804654)), ((0, 8), np.float64(0.7562589557385258)), ((0, 9), np.float64(0.7662348150225452)), ((0, 11), np.float64(0.16422437715311744)), ((0, 12), np.float64(0.7633194303675623)), ((0, 15), np.float64(0.36816349630790984)), ((0, 16), np.float64(0.3982493545552894)), ((0, 18), np.float64(0.19527342846506685)), ((0, 19), np.float64(0.13627444855577092)), ((0, 22), np.float64(0.7618042227621152)), ((0, 23), np.float64(0.4463482613507206)), ((0, 25), np.float64(0.6137349318644041)), ((0, 26), np.float64(0.2023953102798766)), ((0, 29), np.float64(0.690625924736052)), ((0, 32), np.float64(0.6252589427234028)), ((0, 33), np.float64(0.7824020817111611)), ((0, 36), np.float64(0.6375988324857641)), ((0, 39), np.float64(0.18991875995637802)), ((1, 0), np.float64(1.1688666063542028)), ((1, 1), np.float64(1.4834832920833707)), ((1, 3), np.float64(0.7503016743533262)), ((1, 4), np.float64(1.1047260113138604)), ((1, 7), np.float64(0.9722158558549623)), ((1, 10), np.float64(0.9492381498056143)), ((1, 11), np.float64(0.6677526057004457)), ((1, 14), np.float64(0.7671293091296989)), ((1, 17), np.float64(0.542541253226017)), ((1, 18), np.float64(0.3734932312569011)), ((1, 21), np.float64(0.905402414143252)), ((1, 24), np.float64(1.0869887815663817)), ((1, 25), np.float64(1.4591295222159308)), ((1, 27), np.float64(1.508032080878932)), ((1, 28), np.float64(0.3684230850048384)), ((1, 31), np.float64(0.5824994538860971)), ((1, 32), np.float64(0.9673190404155579)), ((1, 34), np.float64(1.2082280247513348)), ((1, 35), np.float64(1.2298567008794785)), ((1, 38), np.float64(0.357142867489444)), ((1, 39), np.float64(0.4636393219127986))]), (1, [((0, 0), np.float64(0.5082548886232034)), ((0, 3), np.float64(0.3433938818087696)), ((0, 6), np.float64(0.28584146453018294)), ((0, 7), np.float64(0.7643013636091611)), ((0, 10), np.float64(0.1961470857853269)), ((0, 13), np.float64(0.09547432519190038)), ((0, 14), np.float64(0.5125333057068752)), ((0, 17), np.float64(0.4395838231333963)), ((0, 20), np.float64(0.44006908895552105)), ((0, 21), np.float64(0.6097572780581021)), ((0, 24), np.float64(0.7697805328346152)), ((0, 27), np.float64(0.7920525878855652)), ((0, 28), np.float64(0.27311270163272583)), ((0, 30), np.float64(0.6905787541356158)), ((0, 31), np.float64(0.18554103441048764)), ((0, 34), np.float64(0.6899971283519477)), ((0, 35), np.float64(0.7358714740187617)), ((0, 37), np.float64(0.18310240294710783)), ((0, 38), np.float64(0.25386840284920115)), ((1, 2), np.float64(0.5826903167865336)), ((1, 5), np.float64(0.6906420455775505)), ((1, 6), np.float64(1.164532034753702)), ((1, 8), np.float64(1.6595087902525543)), ((1, 9), np.float64(1.5123695938215422)), ((1, 12), np.float64(1.365952213072171)), ((1, 13), np.float64(0.3538484366789352)), ((1, 15), np.float64(0.9381036403902929)), ((1, 16), np.float64(1.3264205571229397)), ((1, 19), np.float64(0.7704579128335268)), ((1, 20), np.float64(0.5840012599769544)), ((1, 22), np.float64(1.6016068679702187)), ((1, 23), np.float64(0.9030485841726299)), ((1, 26), np.float64(0.32941477465786934)), ((1, 29), np.float64(1.4534698352763833)), ((1, 30), np.float64(1.612855174500632)), ((1, 33), np.float64(0.9974131897639761)), ((1, 36), np.float64(0.8104908104291466)), ((1, 37), np.float64(0.6475532194059731))])]\n",
            "[((0, 1), np.float64(0.7089652331153427)), ((0, 2), np.float64(0.47025014653390323)), ((0, 4), np.float64(0.5350654032202905)), ((0, 5), np.float64(0.48413853897804654)), ((0, 8), np.float64(0.7562589557385258)), ((0, 9), np.float64(0.7662348150225452)), ((0, 11), np.float64(0.16422437715311744)), ((0, 12), np.float64(0.7633194303675623)), ((0, 15), np.float64(0.36816349630790984)), ((0, 16), np.float64(0.3982493545552894)), ((0, 18), np.float64(0.19527342846506685)), ((0, 19), np.float64(0.13627444855577092)), ((0, 22), np.float64(0.7618042227621152)), ((0, 23), np.float64(0.4463482613507206)), ((0, 25), np.float64(0.6137349318644041)), ((0, 26), np.float64(0.2023953102798766)), ((0, 29), np.float64(0.690625924736052)), ((0, 32), np.float64(0.6252589427234028)), ((0, 33), np.float64(0.7824020817111611)), ((0, 36), np.float64(0.6375988324857641)), ((0, 39), np.float64(0.18991875995637802)), ((1, 0), np.float64(1.1688666063542028)), ((1, 1), np.float64(1.4834832920833707)), ((1, 3), np.float64(0.7503016743533262)), ((1, 4), np.float64(1.1047260113138604)), ((1, 7), np.float64(0.9722158558549623)), ((1, 10), np.float64(0.9492381498056143)), ((1, 11), np.float64(0.6677526057004457)), ((1, 14), np.float64(0.7671293091296989)), ((1, 17), np.float64(0.542541253226017)), ((1, 18), np.float64(0.3734932312569011)), ((1, 21), np.float64(0.905402414143252)), ((1, 24), np.float64(1.0869887815663817)), ((1, 25), np.float64(1.4591295222159308)), ((1, 27), np.float64(1.508032080878932)), ((1, 28), np.float64(0.3684230850048384)), ((1, 31), np.float64(0.5824994538860971)), ((1, 32), np.float64(0.9673190404155579)), ((1, 34), np.float64(1.2082280247513348)), ((1, 35), np.float64(1.2298567008794785)), ((1, 38), np.float64(0.357142867489444)), ((1, 39), np.float64(0.4636393219127986)), ((0, 0), np.float64(0.5082548886232034)), ((0, 3), np.float64(0.3433938818087696)), ((0, 6), np.float64(0.28584146453018294)), ((0, 7), np.float64(0.7643013636091611)), ((0, 10), np.float64(0.1961470857853269)), ((0, 13), np.float64(0.09547432519190038)), ((0, 14), np.float64(0.5125333057068752)), ((0, 17), np.float64(0.4395838231333963)), ((0, 20), np.float64(0.44006908895552105)), ((0, 21), np.float64(0.6097572780581021)), ((0, 24), np.float64(0.7697805328346152)), ((0, 27), np.float64(0.7920525878855652)), ((0, 28), np.float64(0.27311270163272583)), ((0, 30), np.float64(0.6905787541356158)), ((0, 31), np.float64(0.18554103441048764)), ((0, 34), np.float64(0.6899971283519477)), ((0, 35), np.float64(0.7358714740187617)), ((0, 37), np.float64(0.18310240294710783)), ((0, 38), np.float64(0.25386840284920115)), ((1, 2), np.float64(0.5826903167865336)), ((1, 5), np.float64(0.6906420455775505)), ((1, 6), np.float64(1.164532034753702)), ((1, 8), np.float64(1.6595087902525543)), ((1, 9), np.float64(1.5123695938215422)), ((1, 12), np.float64(1.365952213072171)), ((1, 13), np.float64(0.3538484366789352)), ((1, 15), np.float64(0.9381036403902929)), ((1, 16), np.float64(1.3264205571229397)), ((1, 19), np.float64(0.7704579128335268)), ((1, 20), np.float64(0.5840012599769544)), ((1, 22), np.float64(1.6016068679702187)), ((1, 23), np.float64(0.9030485841726299)), ((1, 26), np.float64(0.32941477465786934)), ((1, 29), np.float64(1.4534698352763833)), ((1, 30), np.float64(1.612855174500632)), ((1, 33), np.float64(0.9974131897639761)), ((1, 36), np.float64(0.8104908104291466)), ((1, 37), np.float64(0.6475532194059731))]\n"
          ]
        },
        {
          "output_type": "execute_result",
          "data": {
            "text/plain": [
              "True"
            ]
          },
          "metadata": {},
          "execution_count": 38
        }
      ]
    }
  ]
}