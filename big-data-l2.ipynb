{
  "nbformat": 4,
  "nbformat_minor": 0,
  "metadata": {
    "colab": {
      "provenance": [],
      "authorship_tag": "ABX9TyMFbbQ0/kU0smqB6JSEizWf"
    },
    "kernelspec": {
      "name": "python3",
      "display_name": "Python 3"
    },
    "language_info": {
      "name": "python"
    }
  },
  "cells": [
    {
      "cell_type": "markdown",
      "source": [
        "# Лабораторная работа №2 - Reports with Apache Spark\n",
        "*  Установка **Spark**"
      ],
      "metadata": {
        "id": "QXNEkUDDd_c8"
      }
    },
    {
      "cell_type": "code",
      "execution_count": 1,
      "metadata": {
        "colab": {
          "base_uri": "https://localhost:8080/"
        },
        "id": "w9fT-lKidkXF",
        "outputId": "0c0f9fc8-df35-4cfd-d9ae-b9c9cd8151a0"
      },
      "outputs": [
        {
          "output_type": "stream",
          "name": "stdout",
          "text": [
            "Requirement already satisfied: pyspark in /usr/local/lib/python3.11/dist-packages (3.5.5)\n",
            "Requirement already satisfied: py4j==0.10.9.7 in /usr/local/lib/python3.11/dist-packages (from pyspark) (0.10.9.7)\n"
          ]
        }
      ],
      "source": [
        "!pip3 install pyspark"
      ]
    },
    {
      "cell_type": "markdown",
      "source": [
        "*  Подключение библиотек"
      ],
      "metadata": {
        "id": "5YWsAe0Xf2Kf"
      }
    },
    {
      "cell_type": "code",
      "source": [
        "import os\n",
        "import sys\n",
        "\n",
        "import pyspark.sql.functions as F\n",
        "\n",
        "from pyspark.sql import Row\n",
        "from pyspark.sql import SparkSession"
      ],
      "metadata": {
        "id": "idLMkk7sf2do"
      },
      "execution_count": 2,
      "outputs": []
    },
    {
      "cell_type": "markdown",
      "source": [
        "*  Объявление переменных окружения"
      ],
      "metadata": {
        "id": "uEEGnYG3gK-n"
      }
    },
    {
      "cell_type": "code",
      "source": [
        "os.environ['PYSPARK_PYTHON'] = sys.executable\n",
        "os.environ['PYSPARK_DRIVER_PYTHON'] = sys.executable\n",
        "os.environ['PYSPARK_SUBMIT_ARGS'] = '--packages com.databricks:spark-xml_2.12:0.17.0 pyspark-shell'"
      ],
      "metadata": {
        "id": "FR2t29hCgLKk"
      },
      "execution_count": 3,
      "outputs": []
    },
    {
      "cell_type": "markdown",
      "source": [
        "*  Создание **SparkSession**"
      ],
      "metadata": {
        "id": "yBkp_M6gf_g6"
      }
    },
    {
      "cell_type": "code",
      "source": [
        "spark = SparkSession.builder.getOrCreate()\n",
        "spark"
      ],
      "metadata": {
        "colab": {
          "base_uri": "https://localhost:8080/",
          "height": 219
        },
        "id": "DRUlxdysf_uj",
        "outputId": "f8319901-0283-4582-b00e-4e813250bb09"
      },
      "execution_count": 4,
      "outputs": [
        {
          "output_type": "execute_result",
          "data": {
            "text/plain": [
              "<pyspark.sql.session.SparkSession at 0x794d3976e3d0>"
            ],
            "text/html": [
              "\n",
              "            <div>\n",
              "                <p><b>SparkSession - in-memory</b></p>\n",
              "                \n",
              "        <div>\n",
              "            <p><b>SparkContext</b></p>\n",
              "\n",
              "            <p><a href=\"http://c3d7f1fdd464:4040\">Spark UI</a></p>\n",
              "\n",
              "            <dl>\n",
              "              <dt>Version</dt>\n",
              "                <dd><code>v3.5.5</code></dd>\n",
              "              <dt>Master</dt>\n",
              "                <dd><code>local[*]</code></dd>\n",
              "              <dt>AppName</dt>\n",
              "                <dd><code>pyspark-shell</code></dd>\n",
              "            </dl>\n",
              "        </div>\n",
              "        \n",
              "            </div>\n",
              "        "
            ]
          },
          "metadata": {},
          "execution_count": 4
        }
      ]
    },
    {
      "cell_type": "markdown",
      "source": [
        "*  Чтение данных"
      ],
      "metadata": {
        "id": "95g47a8if6ep"
      }
    },
    {
      "cell_type": "code",
      "source": [
        "postsData = spark.read.format('xml').option('rowTag', 'row').option(\"timestampFormat\", 'y/M/d H:m:s').load('posts_sample.xml')\n",
        "languagesData = spark.read.format('csv').option('header', 'true').option(\"inferSchema\", True).load('programming-languages.csv').dropna()"
      ],
      "metadata": {
        "id": "BRp9QXRLf6mO"
      },
      "execution_count": 8,
      "outputs": []
    },
    {
      "cell_type": "code",
      "source": [
        "print(\"Posts Data Schema:\")\n",
        "postsData.printSchema()"
      ],
      "metadata": {
        "colab": {
          "base_uri": "https://localhost:8080/"
        },
        "id": "QUPLwXSpj8xX",
        "outputId": "4766a5e9-4a7b-49b3-c3c0-73b0b6ca8865"
      },
      "execution_count": 9,
      "outputs": [
        {
          "output_type": "stream",
          "name": "stdout",
          "text": [
            "Posts Data Schema:\n",
            "root\n",
            " |-- _AcceptedAnswerId: long (nullable = true)\n",
            " |-- _AnswerCount: long (nullable = true)\n",
            " |-- _Body: string (nullable = true)\n",
            " |-- _ClosedDate: timestamp (nullable = true)\n",
            " |-- _CommentCount: long (nullable = true)\n",
            " |-- _CommunityOwnedDate: timestamp (nullable = true)\n",
            " |-- _CreationDate: timestamp (nullable = true)\n",
            " |-- _FavoriteCount: long (nullable = true)\n",
            " |-- _Id: long (nullable = true)\n",
            " |-- _LastActivityDate: timestamp (nullable = true)\n",
            " |-- _LastEditDate: timestamp (nullable = true)\n",
            " |-- _LastEditorDisplayName: string (nullable = true)\n",
            " |-- _LastEditorUserId: long (nullable = true)\n",
            " |-- _OwnerDisplayName: string (nullable = true)\n",
            " |-- _OwnerUserId: long (nullable = true)\n",
            " |-- _ParentId: long (nullable = true)\n",
            " |-- _PostTypeId: long (nullable = true)\n",
            " |-- _Score: long (nullable = true)\n",
            " |-- _Tags: string (nullable = true)\n",
            " |-- _Title: string (nullable = true)\n",
            " |-- _ViewCount: long (nullable = true)\n",
            "\n"
          ]
        }
      ]
    },
    {
      "cell_type": "code",
      "source": [
        "print(\"Languages Data Schema:\")\n",
        "languagesData.printSchema()"
      ],
      "metadata": {
        "colab": {
          "base_uri": "https://localhost:8080/"
        },
        "id": "KGz1C_Djj8_k",
        "outputId": "d9e98240-1dbe-40e4-b137-5c04a387e2f0"
      },
      "execution_count": 10,
      "outputs": [
        {
          "output_type": "stream",
          "name": "stdout",
          "text": [
            "Languages Data Schema:\n",
            "root\n",
            " |-- name: string (nullable = true)\n",
            " |-- wikipedia_url: string (nullable = true)\n",
            "\n"
          ]
        }
      ]
    },
    {
      "cell_type": "markdown",
      "source": [
        "## **Задание**\n",
        "Сформировать отчёт с информацией о 10 наиболее популярных языках программирования по итогам года за период с 2010 по 2020 годы. Отчёт будет отражать динамику изменения популярности языков программирования и представлять собой набор таблиц \"топ-10\" для каждого года.\n",
        "\n",
        "Получившийся отчёт сохранить в формате Apache Parquet.\n"
      ],
      "metadata": {
        "id": "uaTZRZ9Sh7vt"
      }
    },
    {
      "cell_type": "markdown",
      "source": [
        "1. Фильтрация постов по дате"
      ],
      "metadata": {
        "id": "NLl5prCAjHdT"
      }
    },
    {
      "cell_type": "code",
      "source": [
        "posts = postsData.filter(F.col(\"_CreationDate\").between(\"2010-01-01\", \"2020-12-31\"))\n",
        "posts.show(1, vertical=True)"
      ],
      "metadata": {
        "colab": {
          "base_uri": "https://localhost:8080/"
        },
        "id": "_YVO5N3fihPJ",
        "outputId": "387e87c2-1e1f-45cb-921f-6941ccc9c6b7"
      },
      "execution_count": 14,
      "outputs": [
        {
          "output_type": "stream",
          "name": "stdout",
          "text": [
            "-RECORD 0--------------------------------------\n",
            " _AcceptedAnswerId      | NULL                 \n",
            " _AnswerCount           | NULL                 \n",
            " _Body                  | <p>No. (And more ... \n",
            " _ClosedDate            | NULL                 \n",
            " _CommentCount          | 6                    \n",
            " _CommunityOwnedDate    | NULL                 \n",
            " _CreationDate          | 2010-09-20 16:18:... \n",
            " _FavoriteCount         | NULL                 \n",
            " _Id                    | 3753373              \n",
            " _LastActivityDate      | 2010-09-20 16:18:... \n",
            " _LastEditDate          | NULL                 \n",
            " _LastEditorDisplayName | NULL                 \n",
            " _LastEditorUserId      | NULL                 \n",
            " _OwnerDisplayName      | NULL                 \n",
            " _OwnerUserId           | 10293                \n",
            " _ParentId              | 3753364              \n",
            " _PostTypeId            | 2                    \n",
            " _Score                 | 13                   \n",
            " _Tags                  | NULL                 \n",
            " _Title                 | NULL                 \n",
            " _ViewCount             | NULL                 \n",
            "only showing top 1 row\n",
            "\n"
          ]
        }
      ]
    },
    {
      "cell_type": "markdown",
      "source": [
        "2. Извлечение названий языков"
      ],
      "metadata": {
        "id": "ExsCj9NVky_n"
      }
    },
    {
      "cell_type": "code",
      "source": [
        "languages = [str(record[0]) for record in languagesData.collect()]\n",
        "languages[:5]"
      ],
      "metadata": {
        "colab": {
          "base_uri": "https://localhost:8080/"
        },
        "id": "884DQlVSkzRK",
        "outputId": "91eb6c14-72dd-4608-c400-1f7587194f28"
      },
      "execution_count": 18,
      "outputs": [
        {
          "output_type": "execute_result",
          "data": {
            "text/plain": [
              "['A# .NET', 'A# (Axiom)', 'A-0 System', 'A+', 'A++']"
            ]
          },
          "metadata": {},
          "execution_count": 18
        }
      ]
    },
    {
      "cell_type": "markdown",
      "source": [
        "3. Реализация функции для извлечения названия языка из тега поста"
      ],
      "metadata": {
        "id": "5WdFFpa4lVzf"
      }
    },
    {
      "cell_type": "code",
      "source": [
        "def get_language_name(post):\n",
        "  tags = str(post._Tags).lower()\n",
        "  tag = next((l for l in languages if f\"<{l.lower()}>\" in tags), None)\n",
        "  return (post[6], tag)"
      ],
      "metadata": {
        "id": "Zf9pOmh0lV-q"
      },
      "execution_count": 20,
      "outputs": []
    },
    {
      "cell_type": "markdown",
      "source": [
        "4. Обработка данных"
      ],
      "metadata": {
        "id": "oD-3qaHdo5m8"
      }
    },
    {
      "cell_type": "code",
      "source": [
        "posts_rdd = posts.rdd \\\n",
        "    .map(get_language_name) \\\n",
        "    .filter(lambda x: x[1] is not None)\n",
        "\n",
        "posts_rdd_group = posts_rdd \\\n",
        "    .keyBy(lambda post: (post[0].year, post[1])) \\\n",
        "    .aggregateByKey(0, lambda x, y: x + 1, lambda x1, x2: x1 + x2) \\\n",
        "    .sortBy(lambda x: x[1], ascending=False) \\\n",
        "    .collect()\n",
        "\n",
        "years = list(range(2010, 2021))[::-1]\n",
        "\n",
        "top_by_years_df = []\n",
        "for year in years:\n",
        "    top_by_years_df.extend([post for post in posts_rdd_group if post[0][0] == year][:10])\n",
        "\n",
        "template = Row('Year', 'Language', 'Count')\n",
        "\n",
        "result_df = spark.createDataFrame(\n",
        "    [template(*x, y) for x, y in top_by_years_df]\n",
        ")\n",
        "\n",
        "result_df.show()"
      ],
      "metadata": {
        "colab": {
          "base_uri": "https://localhost:8080/"
        },
        "id": "ET9kFHtro5ws",
        "outputId": "f5f42980-3cd3-4cdb-f2cc-c37bebde4671"
      },
      "execution_count": 21,
      "outputs": [
        {
          "output_type": "stream",
          "name": "stdout",
          "text": [
            "+----+----------+-----+\n",
            "|Year|  Language|Count|\n",
            "+----+----------+-----+\n",
            "|2019|    Python|  162|\n",
            "|2019|JavaScript|  131|\n",
            "|2019|      Java|   95|\n",
            "|2019|       PHP|   59|\n",
            "|2019|         R|   36|\n",
            "|2019|         C|   14|\n",
            "|2019|      Dart|    9|\n",
            "|2019|    MATLAB|    9|\n",
            "|2019|        Go|    9|\n",
            "|2019|      Bash|    8|\n",
            "|2018|    Python|  214|\n",
            "|2018|JavaScript|  196|\n",
            "|2018|      Java|  145|\n",
            "|2018|       PHP|   99|\n",
            "|2018|         R|   63|\n",
            "|2018|         C|   24|\n",
            "|2018|     Scala|   22|\n",
            "|2018|TypeScript|   21|\n",
            "|2018|PowerShell|   13|\n",
            "|2018|      Bash|   12|\n",
            "+----+----------+-----+\n",
            "only showing top 20 rows\n",
            "\n"
          ]
        }
      ]
    },
    {
      "cell_type": "markdown",
      "source": [
        "5. Сохранение результатов в формате **Parquet**"
      ],
      "metadata": {
        "id": "OwUfy5vdqiW2"
      }
    },
    {
      "cell_type": "code",
      "source": [
        "result_df.write.parquet(\"top_10_languages_by_years_2010-2020.parquet\")"
      ],
      "metadata": {
        "id": "WIkspf39qph8"
      },
      "execution_count": 22,
      "outputs": []
    }
  ]
}